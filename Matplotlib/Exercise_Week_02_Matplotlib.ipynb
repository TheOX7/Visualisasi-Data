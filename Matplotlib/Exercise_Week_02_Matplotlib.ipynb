{
 "cells": [
  {
   "cell_type": "markdown",
   "metadata": {},
   "source": [
    "# Matplotlib 02 | Pengenalan pyplot \n"
   ]
  },
  {
   "cell_type": "markdown",
   "metadata": {},
   "source": [
    "## Pengenalan **pyplot**\n",
    "- **pyploy** merupakan koleksi atau kumpulan fungsi yang menjadikan Matplotlib dapat bekerja menyerupai MATLAB\n",
    "- **pyplot** API secara umum less-flexible bila dibandingkan object-oriented API"
   ]
  },
  {
   "cell_type": "markdown",
   "metadata": {},
   "source": [
    "## Import Modules"
   ]
  },
  {
   "cell_type": "code",
   "execution_count": null,
   "metadata": {},
   "outputs": [],
   "source": [
    "%matplotlib inline"
   ]
  },
  {
   "cell_type": "code",
   "execution_count": null,
   "metadata": {},
   "outputs": [],
   "source": [
    "import matplotlib\n",
    "import matplotlib.pyplot as plt\n",
    "import numpy as np\n",
    "\n",
    "print(matplotlib.__version__)\n",
    "print(np.__version__)"
   ]
  },
  {
   "cell_type": "markdown",
   "metadata": {},
   "source": [
    "## Membuat Plotting Sederhana\n",
    "- Pemanggilan fungsi plot() dapat dilakukan dengan menyertakan sebuah atau dua buah list/array.\n",
    "- Bila pemanggilan hanya menyertakan sebuah deret bilangan. Maka nilai pada deret bilangan tersebut akan dijadikan data point untuk nilai pada sumbu Y. Sedangkan sumbu x akan otomatis dibuatkan sebuah deret bilangan yang terurut dengan nilai dimulai dari nol"
   ]
  },
  {
   "cell_type": "code",
   "execution_count": null,
   "metadata": {},
   "outputs": [],
   "source": [
    "plt.plot([2 ,5, 7, 11])\n",
    "plt.ylabel('Sumbu Y')\n",
    "plt.show()"
   ]
  },
  {
   "cell_type": "code",
   "execution_count": null,
   "metadata": {},
   "outputs": [],
   "source": [
    "plt.plot([2,3,4,7], [5,4,2,16])\n",
    "plt.show()"
   ]
  },
  {
   "cell_type": "markdown",
   "metadata": {},
   "source": [
    "## Pengaturan Format pada Plot\n",
    "- Selain menyertakan 2 buah deret sebagai parameter pada sumbu x dan y, kita bisa memasukkan parameter ketiga untuk mengatur warna dan jenis plotting\n",
    "- Nilai default untuk parameter ini adalah 'b-'\n",
    "- Pemanggilan fungsi **axis()** menyertakan sebuah **list[xmin, xmax, ymin, ymax]**"
   ]
  },
  {
   "cell_type": "code",
   "execution_count": null,
   "metadata": {},
   "outputs": [],
   "source": [
    "plt.plot([1,2,3,4], [1,4,9,16], 'go')\n",
    "plt.axis([0, 6, 0, 20])\n",
    "plt.show()"
   ]
  },
  {
   "cell_type": "markdown",
   "metadata": {},
   "source": [
    "## Multi Plot dalam Satu Pemanggilan Fungsi **plot()**"
   ]
  },
  {
   "cell_type": "code",
   "execution_count": null,
   "metadata": {},
   "outputs": [],
   "source": [
    "# Paramater ketiga : \n",
    "# arrange() --> menggunakan interval, sedangkan linspace() --> jumlah data\n",
    "t = np.arange(0., 5., 0.2)\n",
    "t"
   ]
  },
  {
   "cell_type": "code",
   "execution_count": null,
   "metadata": {},
   "outputs": [],
   "source": [
    "plt.plot(t, t, 'r--')\n",
    "plt.plot(t, t**2, 'bs')\n",
    "plt.plot(t, t**3, 'g^')\n",
    "plt.show()"
   ]
  },
  {
   "cell_type": "code",
   "execution_count": null,
   "metadata": {},
   "outputs": [],
   "source": [
    "# Multi plot dalam satu pemanggilan fungsi plot()\n",
    "plt.plot(t, t, 'r--', t,\n",
    "         t**2, 'bs', \n",
    "         t, t**3, 'g^')\n",
    "plt.show()"
   ]
  },
  {
   "cell_type": "markdown",
   "metadata": {},
   "source": [
    "## Plotting dengan Keywords\n",
    "Matplotlib juga dapat melakukan plotting sekumpulan nilai yang tersimpan dalam struktur data yang disertai keywords argument (kwargs) seperti **dictionary** dan **Pandas DataFrame**"
   ]
  },
  {
   "cell_type": "code",
   "execution_count": null,
   "metadata": {},
   "outputs": [],
   "source": [
    "data = {'a' : np.arange(50),\n",
    "        'c' : np.random.randint(0, 50, 50),\n",
    "        'd' : np.random.randn(50)\n",
    "        }\n",
    "data['b'] = data['a'] + 10 * np.random.randn(50)\n",
    "data['d'] = np.abs(data['d'])*100\n",
    "\n",
    "data"
   ]
  },
  {
   "cell_type": "code",
   "execution_count": null,
   "metadata": {},
   "outputs": [],
   "source": [
    "plt.scatter('a', 'b', data=data)\n",
    "plt.xlabel('Entry A')\n",
    "plt.ylabel('Entry B')\n",
    "plt.show()"
   ]
  },
  {
   "cell_type": "code",
   "execution_count": null,
   "metadata": {},
   "outputs": [],
   "source": [
    "plt.scatter('a', 'b', c='c', s='d' data=data)\n",
    "plt.xlabel('Entry A')\n",
    "plt.ylabel('Entry B')\n",
    "plt.show()"
   ]
  },
  {
   "cell_type": "markdown",
   "metadata": {},
   "source": [
    "## Plotting untuk Tipe Data Categorical"
   ]
  },
  {
   "cell_type": "code",
   "execution_count": null,
   "metadata": {},
   "outputs": [],
   "source": [
    "names = ['group_a', 'group_b', 'group_c']\n",
    "values = [1,10,100]"
   ]
  },
  {
   "cell_type": "code",
   "execution_count": null,
   "metadata": {},
   "outputs": [],
   "source": [
    "plt.plot(names, values)\n",
    "plt.show()"
   ]
  },
  {
   "cell_type": "code",
   "execution_count": null,
   "metadata": {},
   "outputs": [],
   "source": [
    "plt.scatter(names, values)\n",
    "plt.show()"
   ]
  },
  {
   "cell_type": "code",
   "execution_count": null,
   "metadata": {},
   "outputs": [],
   "source": [
    "plt.bar(names, values)\n",
    "plt.show()"
   ]
  }
 ],
 "metadata": {
  "kernelspec": {
   "display_name": "Python 3.10.0 64-bit",
   "language": "python",
   "name": "python3"
  },
  "language_info": {
   "name": "python",
   "version": "3.10.7"
  },
  "orig_nbformat": 4,
  "vscode": {
   "interpreter": {
    "hash": "15fc00f388f62a32a8de0416057bd7f2ed2e1c6ae37f8b7dfd66c8d0f1bd5353"
   }
  }
 },
 "nbformat": 4,
 "nbformat_minor": 2
}
