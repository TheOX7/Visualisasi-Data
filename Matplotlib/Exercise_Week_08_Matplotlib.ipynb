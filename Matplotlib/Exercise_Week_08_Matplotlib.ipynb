{
  "nbformat": 4,
  "nbformat_minor": 0,
  "metadata": {
    "colab": {
      "provenance": [],
      "collapsed_sections": [
        "M6gSOP41Hi9h",
        "QRWwjEwSdNXA",
        "MyirubbDlSYR",
        "kIDb42stmLOB",
        "FquZgebhm85E"
      ]
    },
    "kernelspec": {
      "name": "python3",
      "display_name": "Python 3"
    },
    "language_info": {
      "name": "python"
    }
  },
  "cells": [
    {
      "cell_type": "markdown",
      "source": [
        "# **Import Modules**\n",
        "\n",
        "---\n",
        "\n"
      ],
      "metadata": {
        "id": "vQBaxVsEVdAw"
      }
    },
    {
      "cell_type": "code",
      "source": [
        "%matplotlib inline"
      ],
      "metadata": {
        "id": "LkyuHkn5r2hF"
      },
      "execution_count": 1,
      "outputs": []
    },
    {
      "cell_type": "code",
      "source": [
        "import matplotlib\n",
        "import matplotlib.pyplot as plt\n",
        "import numpy as np\n",
        "\n",
        "print(matplotlib.__version__)\n",
        "print(np.__version__)"
      ],
      "metadata": {
        "colab": {
          "base_uri": "https://localhost:8080/"
        },
        "id": "FejmKzT2r2QE",
        "outputId": "0fddd1b7-b07d-4f93-f448-11979e758b63"
      },
      "execution_count": 2,
      "outputs": [
        {
          "output_type": "stream",
          "name": "stdout",
          "text": [
            "3.2.2\n",
            "1.21.6\n"
          ]
        }
      ]
    },
    {
      "cell_type": "markdown",
      "source": [
        "\n",
        "\n",
        "---\n",
        "\n",
        "\n",
        "# Matplotlib 16 | Plot Lifecycle\n",
        "---\n",
        "\n",
        "\n",
        "\n"
      ],
      "metadata": {
        "id": "6JrD9t8GHi9Y"
      }
    },
    {
      "cell_type": "markdown",
      "source": [
        "## Sample Dataset"
      ],
      "metadata": {
        "id": "M6gSOP41Hi9h"
      }
    },
    {
      "cell_type": "code",
      "source": [
        "data = {\n",
        "    'Item A' : 109438,\n",
        "    'Item B' : 103569,\n",
        "    'Item C' : 112214,\n",
        "    'Item D' : 112591,\n",
        "    'Item E' : 100934,\n",
        "    'Item F' : 103660,\n",
        "    'Item G' : 137351,\n",
        "    'Item H' : 123381,\n",
        "    'Item I' : 135841,\n",
        "    'Item J' : 104437\n",
        "}\n",
        "\n",
        "data"
      ],
      "metadata": {
        "id": "lCzep-U3Hi9h",
        "colab": {
          "base_uri": "https://localhost:8080/"
        },
        "outputId": "3734cbd4-c254-4bad-fa74-04cc49273e24"
      },
      "execution_count": 3,
      "outputs": [
        {
          "output_type": "execute_result",
          "data": {
            "text/plain": [
              "{'Item A': 109438,\n",
              " 'Item B': 103569,\n",
              " 'Item C': 112214,\n",
              " 'Item D': 112591,\n",
              " 'Item E': 100934,\n",
              " 'Item F': 103660,\n",
              " 'Item G': 137351,\n",
              " 'Item H': 123381,\n",
              " 'Item I': 135841,\n",
              " 'Item J': 104437}"
            ]
          },
          "metadata": {},
          "execution_count": 3
        }
      ]
    },
    {
      "cell_type": "code",
      "source": [
        "items = tuple(data.keys())\n",
        "items"
      ],
      "metadata": {
        "colab": {
          "base_uri": "https://localhost:8080/"
        },
        "id": "d-DF8kthjMsx",
        "outputId": "30e6e46f-3ee6-4ab9-8371-23c314429e22"
      },
      "execution_count": 4,
      "outputs": [
        {
          "output_type": "execute_result",
          "data": {
            "text/plain": [
              "('Item A',\n",
              " 'Item B',\n",
              " 'Item C',\n",
              " 'Item D',\n",
              " 'Item E',\n",
              " 'Item F',\n",
              " 'Item G',\n",
              " 'Item H',\n",
              " 'Item I',\n",
              " 'Item J')"
            ]
          },
          "metadata": {},
          "execution_count": 4
        }
      ]
    },
    {
      "cell_type": "code",
      "source": [
        "count = tuple(data.values())\n",
        "count"
      ],
      "metadata": {
        "colab": {
          "base_uri": "https://localhost:8080/"
        },
        "outputId": "5dcc9037-0792-4cb2-8052-ca2cc6ca3863",
        "id": "pkPR89IrjTW8"
      },
      "execution_count": 5,
      "outputs": [
        {
          "output_type": "execute_result",
          "data": {
            "text/plain": [
              "(109438,\n",
              " 103569,\n",
              " 112214,\n",
              " 112591,\n",
              " 100934,\n",
              " 103660,\n",
              " 137351,\n",
              " 123381,\n",
              " 135841,\n",
              " 104437)"
            ]
          },
          "metadata": {},
          "execution_count": 5
        }
      ]
    },
    {
      "cell_type": "markdown",
      "source": [
        "## Simple Plot"
      ],
      "metadata": {
        "id": "I5OUnx1qQ-c2"
      }
    },
    {
      "cell_type": "code",
      "source": [
        "fig, ax = plt.subplots()\n",
        "ax.barh(items, count)\n",
        "\n",
        "plt.show()"
      ],
      "metadata": {
        "id": "PNwWSnLUQ-c2",
        "colab": {
          "base_uri": "https://localhost:8080/",
          "height": 265
        },
        "outputId": "20e98de1-03a0-48a4-c6ba-234a154fd3d7"
      },
      "execution_count": 6,
      "outputs": [
        {
          "output_type": "display_data",
          "data": {
            "text/plain": [
              "<Figure size 432x288 with 1 Axes>"
            ],
            "image/png": "[encoded data removed]"
          },
          "metadata": {
            "needs_background": "light"
          }
        }
      ]
    },
    {
      "cell_type": "markdown",
      "source": [
        "## Pengaturan Style"
      ],
      "metadata": {
        "id": "Xf6Bru38vaQ2"
      }
    },
    {
      "cell_type": "code",
      "source": [
        "plt.style.available"
      ],
      "metadata": {
        "id": "iCHQOR7pvaQ2",
        "colab": {
          "base_uri": "https://localhost:8080/"
        },
        "outputId": "c914cd6f-78b5-4c58-b796-df31bfdba709"
      },
      "execution_count": 7,
      "outputs": [
        {
          "output_type": "execute_result",
          "data": {
            "text/plain": [
              "['Solarize_Light2',\n",
              " '_classic_test_patch',\n",
              " 'bmh',\n",
              " 'classic',\n",
              " 'dark_background',\n",
              " 'fast',\n",
              " 'fivethirtyeight',\n",
              " 'ggplot',\n",
              " 'grayscale',\n",
              " 'seaborn',\n",
              " 'seaborn-bright',\n",
              " 'seaborn-colorblind',\n",
              " 'seaborn-dark',\n",
              " 'seaborn-dark-palette',\n",
              " 'seaborn-darkgrid',\n",
              " 'seaborn-deep',\n",
              " 'seaborn-muted',\n",
              " 'seaborn-notebook',\n",
              " 'seaborn-paper',\n",
              " 'seaborn-pastel',\n",
              " 'seaborn-poster',\n",
              " 'seaborn-talk',\n",
              " 'seaborn-ticks',\n",
              " 'seaborn-white',\n",
              " 'seaborn-whitegrid',\n",
              " 'tableau-colorblind10']"
            ]
          },
          "metadata": {},
          "execution_count": 7
        }
      ]
    },
    {
      "cell_type": "code",
      "source": [
        "plt.style.use('ggplot')\n",
        "\n",
        "fig, ax = plt.subplots()\n",
        "ax.barh(items, count)\n",
        "plt.show()"
      ],
      "metadata": {
        "colab": {
          "base_uri": "https://localhost:8080/",
          "height": 265
        },
        "outputId": "288ee13b-610b-4119-8bc9-ad2d0815ef48",
        "id": "ClD87SnJvaQ3"
      },
      "execution_count": 9,
      "outputs": [
        {
          "output_type": "display_data",
          "data": {
            "text/plain": [
              "<Figure size 432x288 with 1 Axes>"
            ],
            "image/png": "[encoded data removed]"
          },
          "metadata": {}
        }
      ]
    },
    {
      "cell_type": "markdown",
      "source": [
        "## Pengaturan Tick Label"
      ],
      "metadata": {
        "id": "QRWwjEwSdNXA"
      }
    },
    {
      "cell_type": "code",
      "source": [
        "fig, ax = plt.subplots()\n",
        "ax.barh(items, count)\n",
        "\n",
        "labels = ax.get_xticklabels()\n",
        "\n",
        "# Set Properties\n",
        "plt.setp(labels, rotation=45, horizontalalignment='right') \n",
        "# rotation --> untuk merotasi sekian derajat pada sumbu x atau y\n",
        "# horizontalalignment --> nilai = left --> bakal sejajar pada sebelah kiri si tick labelnya & kebalikannya untuk bernilai right\n",
        "\n",
        "plt.show()"
      ],
      "metadata": {
        "colab": {
          "base_uri": "https://localhost:8080/",
          "height": 289
        },
        "outputId": "891e504e-e4ea-4c91-982c-ce509db5a638",
        "id": "S079yTiHdNXB"
      },
      "execution_count": 15,
      "outputs": [
        {
          "output_type": "display_data",
          "data": {
            "text/plain": [
              "<Figure size 432x288 with 1 Axes>"
            ],
            "image/png": "[encoded data removed]"
          },
          "metadata": {}
        }
      ]
    },
    {
      "cell_type": "markdown",
      "source": [
        "## Pengaturan Format pada Ticker"
      ],
      "metadata": {
        "id": "MyirubbDlSYR"
      }
    },
    {
      "cell_type": "code",
      "source": [
        "from matplotlib.ticker import FuncFormatter"
      ],
      "metadata": {
        "id": "dXH_XgJzlVWk"
      },
      "execution_count": 17,
      "outputs": []
    },
    {
      "cell_type": "code",
      "source": [
        "def ribuan(x, pos) :\n",
        "  return f'{int(x/1000)}K'"
      ],
      "metadata": {
        "id": "qReYgRRulcF8"
      },
      "execution_count": 16,
      "outputs": []
    },
    {
      "cell_type": "code",
      "source": [
        "fig, ax = plt.subplots()\n",
        "ax.barh(items, count)\n",
        "\n",
        "formatter = FuncFormatter(ribuan)\n",
        "ax.xaxis.set_major_formatter(formatter)\n",
        "\n",
        "ax.set(title='Contoh Plot', xlabel='Jumlah', ylabel='Items')\n",
        "\n",
        "plt.show()"
      ],
      "metadata": {
        "colab": {
          "base_uri": "https://localhost:8080/",
          "height": 299
        },
        "outputId": "8dbb1ab4-ecf1-4212-8de6-8aba9aea339c",
        "id": "hm8nhGG2lSYS"
      },
      "execution_count": 20,
      "outputs": [
        {
          "output_type": "display_data",
          "data": {
            "text/plain": [
              "<Figure size 432x288 with 1 Axes>"
            ],
            "image/png": "[encoded data removed]"
          },
          "metadata": {}
        }
      ]
    },
    {
      "cell_type": "markdown",
      "source": [
        "## Pengaturan Label pada Sumbu (axis) dan Judul (title)"
      ],
      "metadata": {
        "id": "kIDb42stmLOB"
      }
    },
    {
      "cell_type": "code",
      "source": [
        "fig, ax = plt.subplots()\n",
        "ax.barh(items, count)\n",
        "\n",
        "ax.set(title='Contoh Plot', xlabel='Jumlah', ylabel='Items')\n",
        "\n",
        "plt.show()"
      ],
      "metadata": {
        "colab": {
          "base_uri": "https://localhost:8080/",
          "height": 299
        },
        "outputId": "31a4f8da-19f4-4ec7-87aa-bed4547e63a9",
        "id": "2YGnL1xbmLOL"
      },
      "execution_count": 21,
      "outputs": [
        {
          "output_type": "display_data",
          "data": {
            "text/plain": [
              "<Figure size 432x288 with 1 Axes>"
            ],
            "image/png": "[encoded data removed]"
          },
          "metadata": {}
        }
      ]
    },
    {
      "cell_type": "markdown",
      "source": [
        "### Penambahan Garis (vertical/horizontal line) pada Plot"
      ],
      "metadata": {
        "id": "TRLWCte6mWPt"
      }
    },
    {
      "cell_type": "code",
      "source": [
        "fig, ax = plt.subplots()\n",
        "ax.barh(items, count)\n",
        "\n",
        "# axvline (axes vertical line)\n",
        "ax.axvline(np.mean(count), ls='--', color='b')\n",
        "ax.set(title='Contoh Plot', xlabel='Jumlah', ylabel='Items')\n",
        "\n",
        "plt.show()"
      ],
      "metadata": {
        "colab": {
          "base_uri": "https://localhost:8080/",
          "height": 299
        },
        "id": "9hGSKm3emfBJ",
        "outputId": "de9810c3-6850-459d-cea8-ef993c78aae1"
      },
      "execution_count": 22,
      "outputs": [
        {
          "output_type": "display_data",
          "data": {
            "text/plain": [
              "<Figure size 432x288 with 1 Axes>"
            ],
            "image/png": "[encoded data removed]"
          },
          "metadata": {}
        }
      ]
    },
    {
      "cell_type": "markdown",
      "source": [
        "## Menyimpan Hasil Plot ke dalam Suatu File"
      ],
      "metadata": {
        "id": "FquZgebhm85E"
      }
    },
    {
      "cell_type": "code",
      "source": [
        "fig.canvas.get_supported_filetypes()"
      ],
      "metadata": {
        "colab": {
          "base_uri": "https://localhost:8080/"
        },
        "id": "u7zYIL5um85F",
        "outputId": "d89c0d30-937e-4215-a4db-a0fb79bc9a84"
      },
      "execution_count": 24,
      "outputs": [
        {
          "output_type": "execute_result",
          "data": {
            "text/plain": [
              "{'ps': 'Postscript',\n",
              " 'eps': 'Encapsulated Postscript',\n",
              " 'pdf': 'Portable Document Format',\n",
              " 'pgf': 'PGF code for LaTeX',\n",
              " 'png': 'Portable Network Graphics',\n",
              " 'raw': 'Raw RGBA bitmap',\n",
              " 'rgba': 'Raw RGBA bitmap',\n",
              " 'svg': 'Scalable Vector Graphics',\n",
              " 'svgz': 'Scalable Vector Graphics',\n",
              " 'jpg': 'Joint Photographic Experts Group',\n",
              " 'jpeg': 'Joint Photographic Experts Group',\n",
              " 'tif': 'Tagged Image File Format',\n",
              " 'tiff': 'Tagged Image File Format'}"
            ]
          },
          "metadata": {},
          "execution_count": 24
        }
      ]
    },
    {
      "cell_type": "code",
      "source": [
        "fig, ax = plt.subplots()\n",
        "ax.barh(items, count)\n",
        "\n",
        "ax.axvline(np.mean(count), ls='--', color='b')\n",
        "ax.set(title='Contoh Plot', xlabel='Jumlah', ylabel='Items')\n",
        "\n",
        "fig.savefig('sales.png', transparent=False, dpi=80)"
      ],
      "metadata": {
        "colab": {
          "base_uri": "https://localhost:8080/",
          "height": 299
        },
        "outputId": "96348304-8466-441f-c42c-3baa9ad5d4f0",
        "id": "Lcy8I1JUm85F"
      },
      "execution_count": 26,
      "outputs": [
        {
          "output_type": "display_data",
          "data": {
            "text/plain": [
              "<Figure size 432x288 with 1 Axes>"
            ],
            "image/png": "[encoded data removed]"
          },
          "metadata": {}
        }
      ]
    }
  ]
}