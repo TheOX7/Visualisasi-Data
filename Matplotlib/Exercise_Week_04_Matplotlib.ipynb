{
  "nbformat": 4,
  "nbformat_minor": 0,
  "metadata": {
    "colab": {
      "provenance": [],
      "collapsed_sections": [
        "6Oqwhh_5ShuA",
        "I2B5ygjWtNEY",
        "DiZQEGHJum6s",
        "Efunlv83hWe9"
      ]
    },
    "kernelspec": {
      "name": "python3",
      "display_name": "Python 3"
    },
    "language_info": {
      "name": "python"
    }
  },
  "cells": [
    {
      "cell_type": "markdown",
      "source": [
        "# **Import Modules**\n",
        "\n",
        "---\n",
        "\n"
      ],
      "metadata": {
        "id": "vQBaxVsEVdAw"
      }
    },
    {
      "cell_type": "code",
      "source": [
        "%matplotlib inline"
      ],
      "metadata": {
        "id": "LkyuHkn5r2hF"
      },
      "execution_count": 1,
      "outputs": []
    },
    {
      "cell_type": "code",
      "source": [
        "import matplotlib\n",
        "import matplotlib.pyplot as plt\n",
        "import numpy as np\n",
        "\n",
        "print(matplotlib.__version__)\n",
        "print(np.__version__)"
      ],
      "metadata": {
        "colab": {
          "base_uri": "https://localhost:8080/"
        },
        "id": "FejmKzT2r2QE",
        "outputId": "28c2c4e8-6b93-463c-a5e2-66a327653965"
      },
      "execution_count": 2,
      "outputs": [
        {
          "output_type": "stream",
          "name": "stdout",
          "text": [
            "3.2.2\n",
            "1.21.6\n"
          ]
        }
      ]
    },
    {
      "cell_type": "markdown",
      "source": [
        "\n",
        "\n",
        "---\n",
        "\n",
        "\n",
        "# Matplotlib 05 | Bar Chart\n",
        "\n",
        "---\n",
        "\n",
        "\n",
        "\n"
      ],
      "metadata": {
        "id": "0DfwITlxNobF"
      }
    },
    {
      "cell_type": "markdown",
      "source": [
        "## Simple Bar Plot"
      ],
      "metadata": {
        "id": "6Oqwhh_5ShuA"
      }
    },
    {
      "cell_type": "code",
      "source": [
        "data = [25, 45, 55, 125, 225]\n",
        "kategori = ['A', 'B', 'C', 'D', 'E']"
      ],
      "metadata": {
        "id": "fdgDw6XsRCOR"
      },
      "execution_count": 3,
      "outputs": []
    },
    {
      "cell_type": "code",
      "source": [
        "plt.bar(kategori, data)\n",
        "plt.grid()\n",
        "\n",
        "plt.xlabel('Kategori')\n",
        "plt.ylabel('Jumlah')\n",
        "plt.title('Contoh Bar Plot')\n",
        "\n",
        "plt.show()"
      ],
      "metadata": {
        "colab": {
          "base_uri": "https://localhost:8080/",
          "height": 295
        },
        "id": "3iN8Q4lsuOwj",
        "outputId": "db927d22-d213-40e9-d1b0-e63b9edeb597"
      },
      "execution_count": 4,
      "outputs": [
        {
          "output_type": "display_data",
          "data": {
            "text/plain": [
              "<Figure size 432x288 with 1 Axes>"
            ],
            "image/png": "[encoded data removed]"
          },
          "metadata": {
            "needs_background": "light"
          }
        }
      ]
    },
    {
      "cell_type": "markdown",
      "source": [
        "## Pengaturan Grid dan Color"
      ],
      "metadata": {
        "id": "I2B5ygjWtNEY"
      }
    },
    {
      "cell_type": "code",
      "source": [
        "data = [25, 45, 55, 125, 225]\n",
        "kategori = ['A', 'B', 'C', 'D', 'E']"
      ],
      "metadata": {
        "id": "uQD3eCwJtNEh"
      },
      "execution_count": 5,
      "outputs": []
    },
    {
      "cell_type": "code",
      "source": [
        "plt.bar(kategori, \n",
        "        data,\n",
        "        color='red',\n",
        "        alpha=0.25)\n",
        "\n",
        "plt.grid(linestyle='--',\n",
        "         linewidth=2,\n",
        "         axis='y', # axis --> untuk nentuin arah grid nya kemana, bisa dari arah sumbu y, sumbu x, atau both\n",
        "         alpha=0.5\n",
        ")\n",
        "\n",
        "plt.xlabel('Kategori')\n",
        "plt.ylabel('Jumlah')\n",
        "plt.title('Contoh Bar Plot')\n",
        "\n",
        "plt.show()"
      ],
      "metadata": {
        "colab": {
          "base_uri": "https://localhost:8080/",
          "height": 295
        },
        "outputId": "3d1ac04b-e40e-4cd5-c829-87c62001af69",
        "id": "40hqzpG3tNEh"
      },
      "execution_count": 6,
      "outputs": [
        {
          "output_type": "display_data",
          "data": {
            "text/plain": [
              "<Figure size 432x288 with 1 Axes>"
            ],
            "image/png": "[encoded data removed]"
          },
          "metadata": {
            "needs_background": "light"
          }
        }
      ]
    },
    {
      "cell_type": "markdown",
      "source": [
        "## Horizontal Bar Plot"
      ],
      "metadata": {
        "id": "DiZQEGHJum6s"
      }
    },
    {
      "cell_type": "code",
      "source": [
        "data = [25, 45, 55, 125, 225]\n",
        "kategori = ['A', 'B', 'C', 'D', 'E']"
      ],
      "metadata": {
        "id": "cp0bj5i3um61"
      },
      "execution_count": 7,
      "outputs": []
    },
    {
      "cell_type": "code",
      "source": [
        "# Supaya bar plotnya jadi horizontal, pake barh()\n",
        "# Bar plot vertical, pakai bar()\n",
        "\n",
        "plt.barh(kategori, data)\n",
        "\n",
        "plt.grid(linestyle='--',\n",
        "         linewidth=2,\n",
        "         axis='x', # axis --> untuk nentuin arah grid nya kemana, bisa dari arah sumbu y, sumbu x, atau both\n",
        "         alpha=0.5\n",
        ")\n",
        "\n",
        "plt.xlabel('Kategori')\n",
        "plt.ylabel('Jumlah')\n",
        "plt.title('Contoh Bar Plot')\n",
        "\n",
        "plt.show()"
      ],
      "metadata": {
        "colab": {
          "base_uri": "https://localhost:8080/",
          "height": 295
        },
        "outputId": "0cebcff8-ba26-4b38-f39b-4baf6bb2c8e8",
        "id": "Qj2X801num62"
      },
      "execution_count": 8,
      "outputs": [
        {
          "output_type": "display_data",
          "data": {
            "text/plain": [
              "<Figure size 432x288 with 1 Axes>"
            ],
            "image/png": "[encoded data removed]"
          },
          "metadata": {
            "needs_background": "light"
          }
        }
      ]
    },
    {
      "cell_type": "code",
      "source": [
        "# Mereverse data yang mau dibuat bar plot\n",
        "plt.barh(kategori[::-1], data[::-1])\n",
        "\n",
        "plt.grid(linestyle='--',\n",
        "         linewidth=2,\n",
        "         axis='x', # axis --> untuk nentuin arah grid nya kemana, bisa dari arah sumbu y, sumbu x, atau both\n",
        "         alpha=0.5\n",
        ")\n",
        "\n",
        "plt.xlabel('Kategori')\n",
        "plt.ylabel('Jumlah')\n",
        "plt.title('Contoh Bar Plot')\n",
        "\n",
        "plt.show()"
      ],
      "metadata": {
        "colab": {
          "base_uri": "https://localhost:8080/",
          "height": 295
        },
        "id": "Uv4uDueXg56G",
        "outputId": "36bc3469-54e8-4d95-f50d-8adc7381de07"
      },
      "execution_count": null,
      "outputs": [
        {
          "output_type": "display_data",
          "data": {
            "text/plain": [
              "<Figure size 432x288 with 1 Axes>"
            ],
            "image/png": "[encoded data removed]"
          },
          "metadata": {
            "needs_background": "light"
          }
        }
      ]
    },
    {
      "cell_type": "markdown",
      "source": [
        "## Stacked Bar Plot\n",
        "\"Menimpa\" dataframe dengan dataframe lainnya (stacked)"
      ],
      "metadata": {
        "id": "Efunlv83hWe9"
      }
    },
    {
      "cell_type": "code",
      "source": [
        "data1 = [25, 45, 55, 125, 225]\n",
        "data2 = [40, 35, 20, 55, 10]\n",
        "kategori = ['A', 'B', 'C', 'D', 'E']"
      ],
      "metadata": {
        "id": "uOI-TExwhWe9"
      },
      "execution_count": 9,
      "outputs": []
    },
    {
      "cell_type": "code",
      "source": [
        "plt.bar(kategori, data1, label='Data 1')\n",
        "# bottom --> Digunakan untuk menempatkan suatu dataframe dibawah dataframe yg mau kita timpa\n",
        "# label --> Untuk penamaan pada legend\n",
        "plt.bar(kategori, data2, label='Data 2', bottom=data1)\n",
        "\n",
        "plt.legend()\n",
        "\n",
        "plt.grid(linestyle='--',\n",
        "         linewidth=1,\n",
        "         axis='y',\n",
        "         alpha=0.75\n",
        ")\n",
        "\n",
        "plt.xlabel('Kategori')\n",
        "plt.ylabel('Jumlah')\n",
        "plt.title('Contoh Stacked Bar Plot')\n",
        "\n",
        "plt.show()"
      ],
      "metadata": {
        "colab": {
          "base_uri": "https://localhost:8080/",
          "height": 295
        },
        "outputId": "3d60f7eb-c003-4191-91e1-024f5289e582",
        "id": "tVeWiS9zhWe-"
      },
      "execution_count": 10,
      "outputs": [
        {
          "output_type": "display_data",
          "data": {
            "text/plain": [
              "<Figure size 432x288 with 1 Axes>"
            ],
            "image/png": "[encoded data removed]"
          },
          "metadata": {
            "needs_background": "light"
          }
        }
      ]
    },
    {
      "cell_type": "markdown",
      "source": [
        "## Grouped Bar Plot\n"
      ],
      "metadata": {
        "id": "bzK9n2Vqjk_O"
      }
    },
    {
      "cell_type": "code",
      "source": [
        "data1 = [25, 85, 75, 40, 60]\n",
        "data2 = [40, 35, 20, 55, 10]\n",
        "kategori = ['A', 'B', 'C', 'D', 'E']\n",
        "\n",
        "x = np.arange(len(kategori))\n",
        "x"
      ],
      "metadata": {
        "id": "5upFbhFdjk_U",
        "colab": {
          "base_uri": "https://localhost:8080/"
        },
        "outputId": "da1ea639-5a7d-43c5-bb68-bc71e0d0ec56"
      },
      "execution_count": 27,
      "outputs": [
        {
          "output_type": "execute_result",
          "data": {
            "text/plain": [
              "array([0, 1, 2, 3, 4])"
            ]
          },
          "metadata": {},
          "execution_count": 27
        }
      ]
    },
    {
      "cell_type": "code",
      "source": [
        "width = 0.35\n",
        "\n",
        "plt.bar(x-width/2, data1, width, label='Data 1')\n",
        "plt.bar(x+width/2, data2, width, label='Data 2')\n",
        "\n",
        "# Untuk melabeli ticks pada sumbu x\n",
        "plt.xticks(x, kategori)\n",
        "\n",
        "plt.grid(linestyle='--',\n",
        "         linewidth=1,\n",
        "         axis='y',\n",
        "         alpha=0.75)\n",
        "\n",
        "plt.legend()\n",
        "plt.xlabel('Kategori')\n",
        "plt.ylabel('Jumlah')\n",
        "plt.title('Contoh Grouped Bar Plot')\n",
        "\n",
        "plt.show()"
      ],
      "metadata": {
        "colab": {
          "base_uri": "https://localhost:8080/",
          "height": 295
        },
        "outputId": "10f42896-e567-4dd6-9985-183e35e8b335",
        "id": "sbODSFWdjk_U"
      },
      "execution_count": 26,
      "outputs": [
        {
          "output_type": "display_data",
          "data": {
            "text/plain": [
              "<Figure size 432x288 with 1 Axes>"
            ],
            "image/png": "[encoded data removed]"
          },
          "metadata": {
            "needs_background": "light"
          }
        }
      ]
    },
    {
      "cell_type": "markdown",
      "source": [
        "\n",
        "\n",
        "---\n",
        "\n",
        "\n",
        "# Matplotlib 06 | Pie Plot\n",
        "\n",
        "---\n",
        "\n",
        "\n",
        "\n"
      ],
      "metadata": {
        "id": "6UITOyRVEhJC"
      }
    },
    {
      "cell_type": "markdown",
      "source": [
        "## Simple Pie Plot"
      ],
      "metadata": {
        "id": "5eF-BaVOEhJN"
      }
    },
    {
      "cell_type": "code",
      "source": [
        "data = [215, 130, 245, 210, 225]\n",
        "kategori = ['A', 'B', 'C', 'D', 'E']"
      ],
      "metadata": {
        "id": "jPC1zelpEhJO"
      },
      "execution_count": 28,
      "outputs": []
    },
    {
      "cell_type": "code",
      "source": [
        "plt.pie(data, \n",
        "        labels=kategori,\n",
        "        autopct='%1.1f%%', #autopct --> Untuk menunjukkan persentase tiap datanya\n",
        "        startangle=90)\n",
        "\n",
        "plt.title('Contoh Pie Plot')\n",
        "plt.show()"
      ],
      "metadata": {
        "colab": {
          "base_uri": "https://localhost:8080/",
          "height": 264
        },
        "outputId": "a4e786c6-b715-4f3a-9a8c-adef4f3e9132",
        "id": "ZaWlV_24EhJO"
      },
      "execution_count": 31,
      "outputs": [
        {
          "output_type": "display_data",
          "data": {
            "text/plain": [
              "<Figure size 432x288 with 1 Axes>"
            ],
            "image/png": "[encoded data removed]"
          },
          "metadata": {}
        }
      ]
    },
    {
      "cell_type": "markdown",
      "source": [
        "## Pengaturan Legend dan Color"
      ],
      "metadata": {
        "id": "peqxcMD4EhJP"
      }
    },
    {
      "cell_type": "code",
      "source": [
        "data = [215, 130, 245, 210, 225]\n",
        "kategori = ['A', 'B', 'C', 'D', 'E']\n",
        "warna = ['pink', 'cyan', '#e03364', 'yellowgreen', 'skyblue']"
      ],
      "metadata": {
        "id": "bby6YJBrEhJP"
      },
      "execution_count": 32,
      "outputs": []
    },
    {
      "cell_type": "code",
      "source": [
        "plt.pie(data, \n",
        "        labels=kategori,\n",
        "        colors=warna,\n",
        "        autopct='%1.1f%%', #autopct --> Untuk menunjukkan persentase tiap datanya\n",
        "        startangle=90)\n",
        "\n",
        "plt.legend()\n",
        "plt.title('Contoh Pie Plot')\n",
        "plt.show()"
      ],
      "metadata": {
        "colab": {
          "base_uri": "https://localhost:8080/",
          "height": 264
        },
        "outputId": "fec92308-2fa5-4cbc-fa8a-7a49deb3b118",
        "id": "N2GqXL3WEhJP"
      },
      "execution_count": 33,
      "outputs": [
        {
          "output_type": "display_data",
          "data": {
            "text/plain": [
              "<Figure size 432x288 with 1 Axes>"
            ],
            "image/png": "[encoded data removed]"
          },
          "metadata": {}
        }
      ]
    },
    {
      "cell_type": "markdown",
      "source": [
        "## Exploded Pie Plot"
      ],
      "metadata": {
        "id": "DaNMzkpeEhJQ"
      }
    },
    {
      "cell_type": "code",
      "source": [
        "data = [215, 130, 245, 210, 225]\n",
        "kategori = ['A', 'B', 'C', 'D', 'E']\n",
        "warna = ['pink', 'cyan', '#e03364', 'yellowgreen', 'skyblue']\n",
        "explode_var = [0., 0., 0.2, 0., 0.08]"
      ],
      "metadata": {
        "id": "ko9JIT-SEhJQ"
      },
      "execution_count": 38,
      "outputs": []
    },
    {
      "cell_type": "code",
      "source": [
        "plt.pie(data, \n",
        "        labels=kategori,\n",
        "        colors=warna,\n",
        "        explode=explode_var, #explode --> Untuk memisahkan antara satu data dgn yg lainnya dan jarak pisahnya bisa kita atur\n",
        "        autopct='%1.1f%%', #autopct --> Untuk menunjukkan persentase tiap datanya\n",
        "        startangle=90)\n",
        "\n",
        "plt.legend()\n",
        "plt.title('Contoh Exploded Pie Plot')\n",
        "plt.show()"
      ],
      "metadata": {
        "colab": {
          "base_uri": "https://localhost:8080/",
          "height": 269
        },
        "outputId": "e078a1a6-40f2-4888-fbb1-0671f279e642",
        "id": "uzcprInDEhJQ"
      },
      "execution_count": 39,
      "outputs": [
        {
          "output_type": "display_data",
          "data": {
            "text/plain": [
              "<Figure size 432x288 with 1 Axes>"
            ],
            "image/png": "[encoded data removed]"
          },
          "metadata": {}
        }
      ]
    },
    {
      "cell_type": "markdown",
      "source": [
        "\n",
        "\n",
        "---\n",
        "\n",
        "\n",
        "# Matplotlib 07 | Table Plot\n",
        "\n",
        "---\n",
        "\n",
        "\n",
        "\n"
      ],
      "metadata": {
        "id": "6JrD9t8GHi9Y"
      }
    },
    {
      "cell_type": "markdown",
      "source": [
        "## Sample Data"
      ],
      "metadata": {
        "id": "M6gSOP41Hi9h"
      }
    },
    {
      "cell_type": "code",
      "source": [
        "data_uas = [\n",
        "    ['Bejo', 70],\n",
        "    ['Tejo', 83],\n",
        "    ['Cecep', 62],\n",
        "    ['Wati', 74],\n",
        "    ['Karti', 71]\n",
        "]\n",
        "data_uas"
      ],
      "metadata": {
        "colab": {
          "base_uri": "https://localhost:8080/"
        },
        "id": "lCzep-U3Hi9h",
        "outputId": "3b721b19-f1b3-4288-e95f-bb09ea95c960"
      },
      "execution_count": 40,
      "outputs": [
        {
          "output_type": "execute_result",
          "data": {
            "text/plain": [
              "[['Bejo', 70], ['Tejo', 83], ['Cecep', 62], ['Wati', 74], ['Karti', 71]]"
            ]
          },
          "metadata": {},
          "execution_count": 40
        }
      ]
    },
    {
      "cell_type": "markdown",
      "source": [
        "## Table Plot dengan OO Style"
      ],
      "metadata": {
        "id": "BnHt9K6xHi9i"
      }
    },
    {
      "cell_type": "code",
      "source": [
        "fig, ax = plt.subplots()\n",
        "\n",
        "# cellText\n",
        "# loc --> Location untuk penempatan si tablenya\n",
        "table = plt.table(cellText=data_uas, loc='center')\n",
        "\n",
        "table.set_fontsize(14)\n",
        "\n",
        "# scale(x,y) --> x=ukuran kolom; y=ukuran baris\n",
        "table.scale(1,4) \n",
        "\n",
        "# axis(False) --> Supaya tidak memunculkan axis/sumbu pada table tsb.\n",
        "ax.axis(False)\n",
        "\n",
        "plt.show()"
      ],
      "metadata": {
        "colab": {
          "base_uri": "https://localhost:8080/",
          "height": 271
        },
        "id": "8s5XxjANHi9i",
        "outputId": "a678a25d-d170-4088-cf29-f2075efa4d35"
      },
      "execution_count": 52,
      "outputs": [
        {
          "output_type": "display_data",
          "data": {
            "text/plain": [
              "<Figure size 432x288 with 1 Axes>"
            ],
            "image/png": "[encoded data removed]"
          },
          "metadata": {
            "needs_background": "light"
          }
        }
      ]
    },
    {
      "cell_type": "markdown",
      "source": [
        "## Table Plot dengan pyplot Style"
      ],
      "metadata": {
        "id": "lEp0twc3Hi9j"
      }
    },
    {
      "cell_type": "code",
      "source": [
        "table = plt.table(cellText=data_uas, loc='center')\n",
        "\n",
        "table.set_fontsize(14)\n",
        "table.scale(1,4)\n",
        "\n",
        "# gca() --> Untuk mendapatkan axis yg sedang aktif; gca = get current access\n",
        "ax = plt.gca()\n",
        "ax.axis(False)\n",
        "\n",
        "plt.show()"
      ],
      "metadata": {
        "colab": {
          "base_uri": "https://localhost:8080/",
          "height": 271
        },
        "outputId": "869abb50-d1e3-4943-eb9f-383a6cac081c",
        "id": "kRpT8c1dHi9j"
      },
      "execution_count": 55,
      "outputs": [
        {
          "output_type": "display_data",
          "data": {
            "text/plain": [
              "<Figure size 432x288 with 1 Axes>"
            ],
            "image/png": "[encoded data removed]"
          },
          "metadata": {
            "needs_background": "light"
          }
        }
      ]
    }
  ]
}