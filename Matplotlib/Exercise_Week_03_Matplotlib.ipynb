{
  "nbformat": 4,
  "nbformat_minor": 0,
  "metadata": {
    "colab": {
      "provenance": [],
      "collapsed_sections": [
        "vQBaxVsEVdAw",
        "0DfwITlxNobF",
        "6Oqwhh_5ShuA",
        "_6duQks8UCTT",
        "pX0v3eCPvkJl",
        "qP1LzX9gwvuO",
        "vdnHVlklxw8x",
        "JUfVSOMrxw84",
        "X6Jc6ZysyiRl",
        "urj8FtM_0yLg"
      ]
    },
    "kernelspec": {
      "name": "python3",
      "display_name": "Python 3"
    },
    "language_info": {
      "name": "python"
    }
  },
  "cells": [
    {
      "cell_type": "markdown",
      "source": [
        "# **Multiple Subplots**\n",
        "\n",
        "\n",
        "*   Simple Line Plot\n",
        "*   Multiple Subplots dengan OO Style\n",
        "*   Multiple Subplots dengan pyplot Style\n",
        "\n",
        "\n",
        "\n"
      ],
      "metadata": {
        "id": "LKKQLHYntZxo"
      }
    },
    {
      "cell_type": "markdown",
      "source": [
        "# **Import Modules**\n",
        "\n",
        "---\n",
        "\n"
      ],
      "metadata": {
        "id": "vQBaxVsEVdAw"
      }
    },
    {
      "cell_type": "code",
      "source": [
        "%matplotlib inline"
      ],
      "metadata": {
        "id": "_Lz12JtQtq48"
      },
      "execution_count": 1,
      "outputs": []
    },
    {
      "cell_type": "code",
      "source": [
        "import matplotlib\n",
        "import matplotlib.pyplot as plt\n",
        "import numpy as np\n",
        "\n",
        "print(matplotlib.__version__)\n",
        "print(np.__version__)"
      ],
      "metadata": {
        "colab": {
          "base_uri": "https://localhost:8080/"
        },
        "id": "7CIs7x9WVkif",
        "outputId": "d9f24b9b-cc3d-4837-d9b2-114d44bfd290"
      },
      "execution_count": 2,
      "outputs": [
        {
          "output_type": "stream",
          "name": "stdout",
          "text": [
            "3.2.2\n",
            "1.21.6\n"
          ]
        }
      ]
    },
    {
      "cell_type": "markdown",
      "source": [
        "\n",
        "\n",
        "---\n",
        "\n",
        "\n",
        "# Matplotlib 03 | Multiple Subplots\n",
        "\n",
        "---\n",
        "\n",
        "\n",
        "\n"
      ],
      "metadata": {
        "id": "0DfwITlxNobF"
      }
    },
    {
      "cell_type": "markdown",
      "source": [
        "## Simple Line Plot"
      ],
      "metadata": {
        "id": "6Oqwhh_5ShuA"
      }
    },
    {
      "cell_type": "code",
      "source": [
        "x = np.arange(0.0, 2.0, 0.01)\n",
        "x"
      ],
      "metadata": {
        "colab": {
          "base_uri": "https://localhost:8080/"
        },
        "id": "fdgDw6XsRCOR",
        "outputId": "5d58b66a-e737-49d3-f204-66b18ca61c99"
      },
      "execution_count": 3,
      "outputs": [
        {
          "output_type": "execute_result",
          "data": {
            "text/plain": [
              "array([0.  , 0.01, 0.02, 0.03, 0.04, 0.05, 0.06, 0.07, 0.08, 0.09, 0.1 ,\n",
              "       0.11, 0.12, 0.13, 0.14, 0.15, 0.16, 0.17, 0.18, 0.19, 0.2 , 0.21,\n",
              "       0.22, 0.23, 0.24, 0.25, 0.26, 0.27, 0.28, 0.29, 0.3 , 0.31, 0.32,\n",
              "       0.33, 0.34, 0.35, 0.36, 0.37, 0.38, 0.39, 0.4 , 0.41, 0.42, 0.43,\n",
              "       0.44, 0.45, 0.46, 0.47, 0.48, 0.49, 0.5 , 0.51, 0.52, 0.53, 0.54,\n",
              "       0.55, 0.56, 0.57, 0.58, 0.59, 0.6 , 0.61, 0.62, 0.63, 0.64, 0.65,\n",
              "       0.66, 0.67, 0.68, 0.69, 0.7 , 0.71, 0.72, 0.73, 0.74, 0.75, 0.76,\n",
              "       0.77, 0.78, 0.79, 0.8 , 0.81, 0.82, 0.83, 0.84, 0.85, 0.86, 0.87,\n",
              "       0.88, 0.89, 0.9 , 0.91, 0.92, 0.93, 0.94, 0.95, 0.96, 0.97, 0.98,\n",
              "       0.99, 1.  , 1.01, 1.02, 1.03, 1.04, 1.05, 1.06, 1.07, 1.08, 1.09,\n",
              "       1.1 , 1.11, 1.12, 1.13, 1.14, 1.15, 1.16, 1.17, 1.18, 1.19, 1.2 ,\n",
              "       1.21, 1.22, 1.23, 1.24, 1.25, 1.26, 1.27, 1.28, 1.29, 1.3 , 1.31,\n",
              "       1.32, 1.33, 1.34, 1.35, 1.36, 1.37, 1.38, 1.39, 1.4 , 1.41, 1.42,\n",
              "       1.43, 1.44, 1.45, 1.46, 1.47, 1.48, 1.49, 1.5 , 1.51, 1.52, 1.53,\n",
              "       1.54, 1.55, 1.56, 1.57, 1.58, 1.59, 1.6 , 1.61, 1.62, 1.63, 1.64,\n",
              "       1.65, 1.66, 1.67, 1.68, 1.69, 1.7 , 1.71, 1.72, 1.73, 1.74, 1.75,\n",
              "       1.76, 1.77, 1.78, 1.79, 1.8 , 1.81, 1.82, 1.83, 1.84, 1.85, 1.86,\n",
              "       1.87, 1.88, 1.89, 1.9 , 1.91, 1.92, 1.93, 1.94, 1.95, 1.96, 1.97,\n",
              "       1.98, 1.99])"
            ]
          },
          "metadata": {},
          "execution_count": 3
        }
      ]
    },
    {
      "cell_type": "code",
      "source": [
        "s = np.sin(2 * np.pi * x)\n",
        "s"
      ],
      "metadata": {
        "colab": {
          "base_uri": "https://localhost:8080/"
        },
        "id": "3iN8Q4lsuOwj",
        "outputId": "81be3277-cce4-4f2d-82b4-e88794dcb93f"
      },
      "execution_count": 4,
      "outputs": [
        {
          "output_type": "execute_result",
          "data": {
            "text/plain": [
              "array([ 0.00000000e+00,  6.27905195e-02,  1.25333234e-01,  1.87381315e-01,\n",
              "        2.48689887e-01,  3.09016994e-01,  3.68124553e-01,  4.25779292e-01,\n",
              "        4.81753674e-01,  5.35826795e-01,  5.87785252e-01,  6.37423990e-01,\n",
              "        6.84547106e-01,  7.28968627e-01,  7.70513243e-01,  8.09016994e-01,\n",
              "        8.44327926e-01,  8.76306680e-01,  9.04827052e-01,  9.29776486e-01,\n",
              "        9.51056516e-01,  9.68583161e-01,  9.82287251e-01,  9.92114701e-01,\n",
              "        9.98026728e-01,  1.00000000e+00,  9.98026728e-01,  9.92114701e-01,\n",
              "        9.82287251e-01,  9.68583161e-01,  9.51056516e-01,  9.29776486e-01,\n",
              "        9.04827052e-01,  8.76306680e-01,  8.44327926e-01,  8.09016994e-01,\n",
              "        7.70513243e-01,  7.28968627e-01,  6.84547106e-01,  6.37423990e-01,\n",
              "        5.87785252e-01,  5.35826795e-01,  4.81753674e-01,  4.25779292e-01,\n",
              "        3.68124553e-01,  3.09016994e-01,  2.48689887e-01,  1.87381315e-01,\n",
              "        1.25333234e-01,  6.27905195e-02,  1.22464680e-16, -6.27905195e-02,\n",
              "       -1.25333234e-01, -1.87381315e-01, -2.48689887e-01, -3.09016994e-01,\n",
              "       -3.68124553e-01, -4.25779292e-01, -4.81753674e-01, -5.35826795e-01,\n",
              "       -5.87785252e-01, -6.37423990e-01, -6.84547106e-01, -7.28968627e-01,\n",
              "       -7.70513243e-01, -8.09016994e-01, -8.44327926e-01, -8.76306680e-01,\n",
              "       -9.04827052e-01, -9.29776486e-01, -9.51056516e-01, -9.68583161e-01,\n",
              "       -9.82287251e-01, -9.92114701e-01, -9.98026728e-01, -1.00000000e+00,\n",
              "       -9.98026728e-01, -9.92114701e-01, -9.82287251e-01, -9.68583161e-01,\n",
              "       -9.51056516e-01, -9.29776486e-01, -9.04827052e-01, -8.76306680e-01,\n",
              "       -8.44327926e-01, -8.09016994e-01, -7.70513243e-01, -7.28968627e-01,\n",
              "       -6.84547106e-01, -6.37423990e-01, -5.87785252e-01, -5.35826795e-01,\n",
              "       -4.81753674e-01, -4.25779292e-01, -3.68124553e-01, -3.09016994e-01,\n",
              "       -2.48689887e-01, -1.87381315e-01, -1.25333234e-01, -6.27905195e-02,\n",
              "       -2.44929360e-16,  6.27905195e-02,  1.25333234e-01,  1.87381315e-01,\n",
              "        2.48689887e-01,  3.09016994e-01,  3.68124553e-01,  4.25779292e-01,\n",
              "        4.81753674e-01,  5.35826795e-01,  5.87785252e-01,  6.37423990e-01,\n",
              "        6.84547106e-01,  7.28968627e-01,  7.70513243e-01,  8.09016994e-01,\n",
              "        8.44327926e-01,  8.76306680e-01,  9.04827052e-01,  9.29776486e-01,\n",
              "        9.51056516e-01,  9.68583161e-01,  9.82287251e-01,  9.92114701e-01,\n",
              "        9.98026728e-01,  1.00000000e+00,  9.98026728e-01,  9.92114701e-01,\n",
              "        9.82287251e-01,  9.68583161e-01,  9.51056516e-01,  9.29776486e-01,\n",
              "        9.04827052e-01,  8.76306680e-01,  8.44327926e-01,  8.09016994e-01,\n",
              "        7.70513243e-01,  7.28968627e-01,  6.84547106e-01,  6.37423990e-01,\n",
              "        5.87785252e-01,  5.35826795e-01,  4.81753674e-01,  4.25779292e-01,\n",
              "        3.68124553e-01,  3.09016994e-01,  2.48689887e-01,  1.87381315e-01,\n",
              "        1.25333234e-01,  6.27905195e-02,  3.67394040e-16, -6.27905195e-02,\n",
              "       -1.25333234e-01, -1.87381315e-01, -2.48689887e-01, -3.09016994e-01,\n",
              "       -3.68124553e-01, -4.25779292e-01, -4.81753674e-01, -5.35826795e-01,\n",
              "       -5.87785252e-01, -6.37423990e-01, -6.84547106e-01, -7.28968627e-01,\n",
              "       -7.70513243e-01, -8.09016994e-01, -8.44327926e-01, -8.76306680e-01,\n",
              "       -9.04827052e-01, -9.29776486e-01, -9.51056516e-01, -9.68583161e-01,\n",
              "       -9.82287251e-01, -9.92114701e-01, -9.98026728e-01, -1.00000000e+00,\n",
              "       -9.98026728e-01, -9.92114701e-01, -9.82287251e-01, -9.68583161e-01,\n",
              "       -9.51056516e-01, -9.29776486e-01, -9.04827052e-01, -8.76306680e-01,\n",
              "       -8.44327926e-01, -8.09016994e-01, -7.70513243e-01, -7.28968627e-01,\n",
              "       -6.84547106e-01, -6.37423990e-01, -5.87785252e-01, -5.35826795e-01,\n",
              "       -4.81753674e-01, -4.25779292e-01, -3.68124553e-01, -3.09016994e-01,\n",
              "       -2.48689887e-01, -1.87381315e-01, -1.25333234e-01, -6.27905195e-02])"
            ]
          },
          "metadata": {},
          "execution_count": 4
        }
      ]
    },
    {
      "cell_type": "code",
      "source": [
        "# OO Style\n",
        "fig, ax = plt.subplots() \n",
        "\n",
        "ax.plot(x, s)\n",
        "ax.set(xlabel='Nilai X',\n",
        "       ylabel='Nilai sin(x)',\n",
        "       title='Visualisasi Nilai Sin')\n",
        "ax.grid()\n",
        "\n",
        "plt.show()"
      ],
      "metadata": {
        "colab": {
          "base_uri": "https://localhost:8080/",
          "height": 295
        },
        "id": "4pQT5URYuVaV",
        "outputId": "44998817-7c1a-4e50-92a4-3dfa045131e4"
      },
      "execution_count": 5,
      "outputs": [
        {
          "output_type": "display_data",
          "data": {
            "text/plain": [
              "<Figure size 432x288 with 1 Axes>"
            ],
            "image/png": "[encoded data removed]"
          },
          "metadata": {
            "needs_background": "light"
          }
        }
      ]
    },
    {
      "cell_type": "markdown",
      "source": [
        "## Multiple Subplots\n",
        "\n",
        "\n"
      ],
      "metadata": {
        "id": "_6duQks8UCTT"
      }
    },
    {
      "cell_type": "code",
      "source": [
        "x1 = np.linspace(0.0, 5.0, 100)\n",
        "x2 = np.linspace(0.0, 5.0, 100)\n",
        "\n",
        "y1 = np.cos(2 * np.pi * x1)\n",
        "y2 = np.cos(2 * np.pi * x2)"
      ],
      "metadata": {
        "id": "4Zv4lHG5UK-G"
      },
      "execution_count": 6,
      "outputs": []
    },
    {
      "cell_type": "code",
      "source": [
        "x1"
      ],
      "metadata": {
        "colab": {
          "base_uri": "https://localhost:8080/"
        },
        "id": "GL5p3rEQUmh9",
        "outputId": "11e60159-ba65-4560-e54d-4e9f534c8fe2"
      },
      "execution_count": 7,
      "outputs": [
        {
          "output_type": "execute_result",
          "data": {
            "text/plain": [
              "array([0.        , 0.05050505, 0.1010101 , 0.15151515, 0.2020202 ,\n",
              "       0.25252525, 0.3030303 , 0.35353535, 0.4040404 , 0.45454545,\n",
              "       0.50505051, 0.55555556, 0.60606061, 0.65656566, 0.70707071,\n",
              "       0.75757576, 0.80808081, 0.85858586, 0.90909091, 0.95959596,\n",
              "       1.01010101, 1.06060606, 1.11111111, 1.16161616, 1.21212121,\n",
              "       1.26262626, 1.31313131, 1.36363636, 1.41414141, 1.46464646,\n",
              "       1.51515152, 1.56565657, 1.61616162, 1.66666667, 1.71717172,\n",
              "       1.76767677, 1.81818182, 1.86868687, 1.91919192, 1.96969697,\n",
              "       2.02020202, 2.07070707, 2.12121212, 2.17171717, 2.22222222,\n",
              "       2.27272727, 2.32323232, 2.37373737, 2.42424242, 2.47474747,\n",
              "       2.52525253, 2.57575758, 2.62626263, 2.67676768, 2.72727273,\n",
              "       2.77777778, 2.82828283, 2.87878788, 2.92929293, 2.97979798,\n",
              "       3.03030303, 3.08080808, 3.13131313, 3.18181818, 3.23232323,\n",
              "       3.28282828, 3.33333333, 3.38383838, 3.43434343, 3.48484848,\n",
              "       3.53535354, 3.58585859, 3.63636364, 3.68686869, 3.73737374,\n",
              "       3.78787879, 3.83838384, 3.88888889, 3.93939394, 3.98989899,\n",
              "       4.04040404, 4.09090909, 4.14141414, 4.19191919, 4.24242424,\n",
              "       4.29292929, 4.34343434, 4.39393939, 4.44444444, 4.49494949,\n",
              "       4.54545455, 4.5959596 , 4.64646465, 4.6969697 , 4.74747475,\n",
              "       4.7979798 , 4.84848485, 4.8989899 , 4.94949495, 5.        ])"
            ]
          },
          "metadata": {},
          "execution_count": 7
        }
      ]
    },
    {
      "cell_type": "markdown",
      "source": [
        "### Multiple Subplots dengan OO Style"
      ],
      "metadata": {
        "id": "pX0v3eCPvkJl"
      }
    },
    {
      "cell_type": "code",
      "source": [
        "fig, (ax1, ax2) = plt.subplots(2,1)\n",
        "fig.suptitle('Multiple Subplots')\n",
        "\n",
        "ax1.plot(x1, y1, 'ro-')\n",
        "ax1.set_ylabel('Nilai $cos(x_1)$')\n",
        "\n",
        "ax2.plot(x2, y2, 'g.-')\n",
        "ax2.set_ylabel('Nilai $cos(x_2)$')\n",
        "\n",
        "ax2.set_xlabel('Nilai X')\n",
        "\n",
        "plt.show()"
      ],
      "metadata": {
        "colab": {
          "base_uri": "https://localhost:8080/",
          "height": 308
        },
        "id": "eWbqVeKEkIRs",
        "outputId": "a44f6dd7-28ef-4773-d401-0f439e8809ad"
      },
      "execution_count": 10,
      "outputs": [
        {
          "output_type": "display_data",
          "data": {
            "text/plain": [
              "<Figure size 432x288 with 2 Axes>"
            ],
            "image/png": "[encoded data removed]"
          },
          "metadata": {
            "needs_background": "light"
          }
        }
      ]
    },
    {
      "cell_type": "code",
      "source": [
        "df_2"
      ],
      "metadata": {
        "colab": {
          "base_uri": "https://localhost:8080/",
          "height": 172
        },
        "id": "vGuFJDW3kKpO",
        "outputId": "16e5761b-95e5-4635-9912-41f4a2ea0bde"
      },
      "execution_count": null,
      "outputs": [
        {
          "output_type": "execute_result",
          "data": {
            "text/plain": [
              "    V   X   Y   W   Z\n",
              "0  19  19  17   8   6\n",
              "2   4  15  11  17  11\n",
              "8  13   5  13  12  16"
            ],
            "text/html": [
              "\n",
              "  <div id=\"df-a4635ad7-460b-4c48-ada3-e5fed1d214b3\">\n",
              "    <div class=\"colab-df-container\">\n",
              "      <div>\n",
              "<style scoped>\n",
              "    .dataframe tbody tr th:only-of-type {\n",
              "        vertical-align: middle;\n",
              "    }\n",
              "\n",
              "    .dataframe tbody tr th {\n",
              "        vertical-align: top;\n",
              "    }\n",
              "\n",
              "    .dataframe thead th {\n",
              "        text-align: right;\n",
              "    }\n",
              "</style>\n",
              "<table border=\"1\" class=\"dataframe\">\n",
              "  <thead>\n",
              "    <tr style=\"text-align: right;\">\n",
              "      <th></th>\n",
              "      <th>V</th>\n",
              "      <th>X</th>\n",
              "      <th>Y</th>\n",
              "      <th>W</th>\n",
              "      <th>Z</th>\n",
              "    </tr>\n",
              "  </thead>\n",
              "  <tbody>\n",
              "    <tr>\n",
              "      <th>0</th>\n",
              "      <td>19</td>\n",
              "      <td>19</td>\n",
              "      <td>17</td>\n",
              "      <td>8</td>\n",
              "      <td>6</td>\n",
              "    </tr>\n",
              "    <tr>\n",
              "      <th>2</th>\n",
              "      <td>4</td>\n",
              "      <td>15</td>\n",
              "      <td>11</td>\n",
              "      <td>17</td>\n",
              "      <td>11</td>\n",
              "    </tr>\n",
              "    <tr>\n",
              "      <th>8</th>\n",
              "      <td>13</td>\n",
              "      <td>5</td>\n",
              "      <td>13</td>\n",
              "      <td>12</td>\n",
              "      <td>16</td>\n",
              "    </tr>\n",
              "  </tbody>\n",
              "</table>\n",
              "</div>\n",
              "      <button class=\"colab-df-convert\" onclick=\"convertToInteractive('df-a4635ad7-460b-4c48-ada3-e5fed1d214b3')\"\n",
              "              title=\"Convert this dataframe to an interactive table.\"\n",
              "              style=\"display:none;\">\n",
              "        \n",
              "  <svg xmlns=\"http://www.w3.org/2000/svg\" height=\"24px\"viewBox=\"0 0 24 24\"\n",
              "       width=\"24px\">\n",
              "    <path d=\"M0 0h24v24H0V0z\" fill=\"none\"/>\n",
              "    <path d=\"M18.56 5.44l.94 2.06.94-2.06 2.06-.94-2.06-.94-.94-2.06-.94 2.06-2.06.94zm-11 1L8.5 8.5l.94-2.06 2.06-.94-2.06-.94L8.5 2.5l-.94 2.06-2.06.94zm10 10l.94 2.06.94-2.06 2.06-.94-2.06-.94-.94-2.06-.94 2.06-2.06.94z\"/><path d=\"M17.41 7.96l-1.37-1.37c-.4-.4-.92-.59-1.43-.59-.52 0-1.04.2-1.43.59L10.3 9.45l-7.72 7.72c-.78.78-.78 2.05 0 2.83L4 21.41c.39.39.9.59 1.41.59.51 0 1.02-.2 1.41-.59l7.78-7.78 2.81-2.81c.8-.78.8-2.07 0-2.86zM5.41 20L4 18.59l7.72-7.72 1.47 1.35L5.41 20z\"/>\n",
              "  </svg>\n",
              "      </button>\n",
              "      \n",
              "  <style>\n",
              "    .colab-df-container {\n",
              "      display:flex;\n",
              "      flex-wrap:wrap;\n",
              "      gap: 12px;\n",
              "    }\n",
              "\n",
              "    .colab-df-convert {\n",
              "      background-color: #E8F0FE;\n",
              "      border: none;\n",
              "      border-radius: 50%;\n",
              "      cursor: pointer;\n",
              "      display: none;\n",
              "      fill: #1967D2;\n",
              "      height: 32px;\n",
              "      padding: 0 0 0 0;\n",
              "      width: 32px;\n",
              "    }\n",
              "\n",
              "    .colab-df-convert:hover {\n",
              "      background-color: #E2EBFA;\n",
              "      box-shadow: 0px 1px 2px rgba(60, 64, 67, 0.3), 0px 1px 3px 1px rgba(60, 64, 67, 0.15);\n",
              "      fill: #174EA6;\n",
              "    }\n",
              "\n",
              "    [theme=dark] .colab-df-convert {\n",
              "      background-color: #3B4455;\n",
              "      fill: #D2E3FC;\n",
              "    }\n",
              "\n",
              "    [theme=dark] .colab-df-convert:hover {\n",
              "      background-color: #434B5C;\n",
              "      box-shadow: 0px 1px 3px 1px rgba(0, 0, 0, 0.15);\n",
              "      filter: drop-shadow(0px 1px 2px rgba(0, 0, 0, 0.3));\n",
              "      fill: #FFFFFF;\n",
              "    }\n",
              "  </style>\n",
              "\n",
              "      <script>\n",
              "        const buttonEl =\n",
              "          document.querySelector('#df-a4635ad7-460b-4c48-ada3-e5fed1d214b3 button.colab-df-convert');\n",
              "        buttonEl.style.display =\n",
              "          google.colab.kernel.accessAllowed ? 'block' : 'none';\n",
              "\n",
              "        async function convertToInteractive(key) {\n",
              "          const element = document.querySelector('#df-a4635ad7-460b-4c48-ada3-e5fed1d214b3');\n",
              "          const dataTable =\n",
              "            await google.colab.kernel.invokeFunction('convertToInteractive',\n",
              "                                                     [key], {});\n",
              "          if (!dataTable) return;\n",
              "\n",
              "          const docLinkHtml = 'Like what you see? Visit the ' +\n",
              "            '<a target=\"_blank\" href=https://colab.research.google.com/notebooks/data_table.ipynb>data table notebook</a>'\n",
              "            + ' to learn more about interactive tables.';\n",
              "          element.innerHTML = '';\n",
              "          dataTable['output_type'] = 'display_data';\n",
              "          await google.colab.output.renderOutput(dataTable, element);\n",
              "          const docLink = document.createElement('div');\n",
              "          docLink.innerHTML = docLinkHtml;\n",
              "          element.appendChild(docLink);\n",
              "        }\n",
              "      </script>\n",
              "    </div>\n",
              "  </div>\n",
              "  "
            ]
          },
          "metadata": {},
          "execution_count": 7
        }
      ]
    },
    {
      "cell_type": "code",
      "source": [
        "df.loc[::-1].reset_index(drop=True)"
      ],
      "metadata": {
        "colab": {
          "base_uri": "https://localhost:8080/",
          "height": 215
        },
        "id": "PZnk0Zfg-zKT",
        "outputId": "44b48117-2542-46d8-fa1d-af1176bcfd24"
      },
      "execution_count": null,
      "outputs": [
        {
          "output_type": "execute_result",
          "data": {
            "text/plain": [
              "   V  X  Y  W  Z\n",
              "0  7  8  4  4  9\n",
              "1  5  7  5  2  6\n",
              "2  3  6  5  7  5\n",
              "3  1  1  6  6  5\n",
              "4  2  9  1  3  4"
            ],
            "text/html": [
              "\n",
              "  <div id=\"df-a3111640-e0f0-4d8d-a815-bfae1e44b7e1\">\n",
              "    <div class=\"colab-df-container\">\n",
              "      <div>\n",
              "<style scoped>\n",
              "    .dataframe tbody tr th:only-of-type {\n",
              "        vertical-align: middle;\n",
              "    }\n",
              "\n",
              "    .dataframe tbody tr th {\n",
              "        vertical-align: top;\n",
              "    }\n",
              "\n",
              "    .dataframe thead th {\n",
              "        text-align: right;\n",
              "    }\n",
              "</style>\n",
              "<table border=\"1\" class=\"dataframe\">\n",
              "  <thead>\n",
              "    <tr style=\"text-align: right;\">\n",
              "      <th></th>\n",
              "      <th>V</th>\n",
              "      <th>X</th>\n",
              "      <th>Y</th>\n",
              "      <th>W</th>\n",
              "      <th>Z</th>\n",
              "    </tr>\n",
              "  </thead>\n",
              "  <tbody>\n",
              "    <tr>\n",
              "      <th>0</th>\n",
              "      <td>7</td>\n",
              "      <td>8</td>\n",
              "      <td>4</td>\n",
              "      <td>4</td>\n",
              "      <td>9</td>\n",
              "    </tr>\n",
              "    <tr>\n",
              "      <th>1</th>\n",
              "      <td>5</td>\n",
              "      <td>7</td>\n",
              "      <td>5</td>\n",
              "      <td>2</td>\n",
              "      <td>6</td>\n",
              "    </tr>\n",
              "    <tr>\n",
              "      <th>2</th>\n",
              "      <td>3</td>\n",
              "      <td>6</td>\n",
              "      <td>5</td>\n",
              "      <td>7</td>\n",
              "      <td>5</td>\n",
              "    </tr>\n",
              "    <tr>\n",
              "      <th>3</th>\n",
              "      <td>1</td>\n",
              "      <td>1</td>\n",
              "      <td>6</td>\n",
              "      <td>6</td>\n",
              "      <td>5</td>\n",
              "    </tr>\n",
              "    <tr>\n",
              "      <th>4</th>\n",
              "      <td>2</td>\n",
              "      <td>9</td>\n",
              "      <td>1</td>\n",
              "      <td>3</td>\n",
              "      <td>4</td>\n",
              "    </tr>\n",
              "  </tbody>\n",
              "</table>\n",
              "</div>\n",
              "      <button class=\"colab-df-convert\" onclick=\"convertToInteractive('df-a3111640-e0f0-4d8d-a815-bfae1e44b7e1')\"\n",
              "              title=\"Convert this dataframe to an interactive table.\"\n",
              "              style=\"display:none;\">\n",
              "        \n",
              "  <svg xmlns=\"http://www.w3.org/2000/svg\" height=\"24px\"viewBox=\"0 0 24 24\"\n",
              "       width=\"24px\">\n",
              "    <path d=\"M0 0h24v24H0V0z\" fill=\"none\"/>\n",
              "    <path d=\"M18.56 5.44l.94 2.06.94-2.06 2.06-.94-2.06-.94-.94-2.06-.94 2.06-2.06.94zm-11 1L8.5 8.5l.94-2.06 2.06-.94-2.06-.94L8.5 2.5l-.94 2.06-2.06.94zm10 10l.94 2.06.94-2.06 2.06-.94-2.06-.94-.94-2.06-.94 2.06-2.06.94z\"/><path d=\"M17.41 7.96l-1.37-1.37c-.4-.4-.92-.59-1.43-.59-.52 0-1.04.2-1.43.59L10.3 9.45l-7.72 7.72c-.78.78-.78 2.05 0 2.83L4 21.41c.39.39.9.59 1.41.59.51 0 1.02-.2 1.41-.59l7.78-7.78 2.81-2.81c.8-.78.8-2.07 0-2.86zM5.41 20L4 18.59l7.72-7.72 1.47 1.35L5.41 20z\"/>\n",
              "  </svg>\n",
              "      </button>\n",
              "      \n",
              "  <style>\n",
              "    .colab-df-container {\n",
              "      display:flex;\n",
              "      flex-wrap:wrap;\n",
              "      gap: 12px;\n",
              "    }\n",
              "\n",
              "    .colab-df-convert {\n",
              "      background-color: #E8F0FE;\n",
              "      border: none;\n",
              "      border-radius: 50%;\n",
              "      cursor: pointer;\n",
              "      display: none;\n",
              "      fill: #1967D2;\n",
              "      height: 32px;\n",
              "      padding: 0 0 0 0;\n",
              "      width: 32px;\n",
              "    }\n",
              "\n",
              "    .colab-df-convert:hover {\n",
              "      background-color: #E2EBFA;\n",
              "      box-shadow: 0px 1px 2px rgba(60, 64, 67, 0.3), 0px 1px 3px 1px rgba(60, 64, 67, 0.15);\n",
              "      fill: #174EA6;\n",
              "    }\n",
              "\n",
              "    [theme=dark] .colab-df-convert {\n",
              "      background-color: #3B4455;\n",
              "      fill: #D2E3FC;\n",
              "    }\n",
              "\n",
              "    [theme=dark] .colab-df-convert:hover {\n",
              "      background-color: #434B5C;\n",
              "      box-shadow: 0px 1px 3px 1px rgba(0, 0, 0, 0.15);\n",
              "      filter: drop-shadow(0px 1px 2px rgba(0, 0, 0, 0.3));\n",
              "      fill: #FFFFFF;\n",
              "    }\n",
              "  </style>\n",
              "\n",
              "      <script>\n",
              "        const buttonEl =\n",
              "          document.querySelector('#df-a3111640-e0f0-4d8d-a815-bfae1e44b7e1 button.colab-df-convert');\n",
              "        buttonEl.style.display =\n",
              "          google.colab.kernel.accessAllowed ? 'block' : 'none';\n",
              "\n",
              "        async function convertToInteractive(key) {\n",
              "          const element = document.querySelector('#df-a3111640-e0f0-4d8d-a815-bfae1e44b7e1');\n",
              "          const dataTable =\n",
              "            await google.colab.kernel.invokeFunction('convertToInteractive',\n",
              "                                                     [key], {});\n",
              "          if (!dataTable) return;\n",
              "\n",
              "          const docLinkHtml = 'Like what you see? Visit the ' +\n",
              "            '<a target=\"_blank\" href=https://colab.research.google.com/notebooks/data_table.ipynb>data table notebook</a>'\n",
              "            + ' to learn more about interactive tables.';\n",
              "          element.innerHTML = '';\n",
              "          dataTable['output_type'] = 'display_data';\n",
              "          await google.colab.output.renderOutput(dataTable, element);\n",
              "          const docLink = document.createElement('div');\n",
              "          docLink.innerHTML = docLinkHtml;\n",
              "          element.appendChild(docLink);\n",
              "        }\n",
              "      </script>\n",
              "    </div>\n",
              "  </div>\n",
              "  "
            ]
          },
          "metadata": {},
          "execution_count": 8
        }
      ]
    },
    {
      "cell_type": "markdown",
      "source": [
        "### Multiple Subplots dengan pyplot Style"
      ],
      "metadata": {
        "id": "qP1LzX9gwvuO"
      }
    },
    {
      "cell_type": "code",
      "source": [
        "plt.subplot(2, 1, 1) # plt.subplots (jumlah baris, jumlah kolom, posisi si grafik)\n",
        "plt.plot(x1, y1, 'ro-')\n",
        "plt.title('Multiple Subplots')\n",
        "plt.ylabel('Nilai $cos(x_1)$')\n",
        "\n",
        "plt.subplot(2, 1, 2)\n",
        "plt.plot(x2, y2, 'g.-')\n",
        "plt.ylabel('Nilai $cos(x_2)$')\n",
        "plt.xlabel('Nilai $x$')\n",
        "\n",
        "plt.show()"
      ],
      "metadata": {
        "colab": {
          "base_uri": "https://localhost:8080/",
          "height": 297
        },
        "id": "oECKqV-pw5bm",
        "outputId": "5e80b2db-2020-4b99-d290-8e107e5b035b"
      },
      "execution_count": 13,
      "outputs": [
        {
          "output_type": "display_data",
          "data": {
            "text/plain": [
              "<Figure size 432x288 with 2 Axes>"
            ],
            "image/png": "[encoded data removed]"
          },
          "metadata": {
            "needs_background": "light"
          }
        }
      ]
    },
    {
      "cell_type": "markdown",
      "source": [
        "\n",
        "\n",
        "---\n",
        "\n",
        "\n",
        "# Matplotlib 04 | Belajar Histogram\n",
        "\n",
        "---\n",
        "\n",
        "\n",
        "\n"
      ],
      "metadata": {
        "id": "vdnHVlklxw8x"
      }
    },
    {
      "cell_type": "markdown",
      "source": [
        "## Sample Data"
      ],
      "metadata": {
        "id": "JUfVSOMrxw84"
      }
    },
    {
      "cell_type": "code",
      "source": [
        "# Nilai mu untuk mempresentasi nilai Mean dan sigma untuk standard deviasi\n",
        "mu, sigma = 100, 15\n",
        "\n",
        "# Normal distribution\n",
        "x = mu + sigma * np.random.randn(10000)\n",
        "x"
      ],
      "metadata": {
        "colab": {
          "base_uri": "https://localhost:8080/"
        },
        "outputId": "e5895e9f-2a2c-4eee-f2b3-aa8c5e58c09c",
        "id": "uCk0iDEzxw84"
      },
      "execution_count": 15,
      "outputs": [
        {
          "output_type": "execute_result",
          "data": {
            "text/plain": [
              "array([ 89.20293632, 101.90686385, 107.92960481, ...,  83.75121249,\n",
              "        90.67668772,  89.81840615])"
            ]
          },
          "metadata": {},
          "execution_count": 15
        }
      ]
    },
    {
      "cell_type": "code",
      "source": [
        "x.shape"
      ],
      "metadata": {
        "colab": {
          "base_uri": "https://localhost:8080/"
        },
        "outputId": "12822820-ebfe-4e25-9880-fd77532b324e",
        "id": "ukhnEJW0xw84"
      },
      "execution_count": 16,
      "outputs": [
        {
          "output_type": "execute_result",
          "data": {
            "text/plain": [
              "(10000,)"
            ]
          },
          "metadata": {},
          "execution_count": 16
        }
      ]
    },
    {
      "cell_type": "markdown",
      "source": [
        "## Histogram dengan pyplot Style"
      ],
      "metadata": {
        "id": "X6Jc6ZysyiRl"
      }
    },
    {
      "cell_type": "code",
      "source": [
        "# bins --> Pengelompokan data.\n",
        "plt.hist(x,\n",
        "         # Jadi dari 10000 data akan dikelompokkan menjadi 50 kelompok. Lalu menghitung jumlah member dari setiap kelompok data\n",
        "         # Dan direpresentasikan frekuensinya pada sumbu y\n",
        "         bins = 50, \n",
        "         facecolor = 'g',\n",
        "\n",
        "         # Alpha = opacity\n",
        "         alpha = 0.75)\n",
        "\n",
        "plt.xlabel('Sumbu X')\n",
        "plt.ylabel('Sumbu Y')\n",
        "plt.title('Contoh Histogram')\n",
        "\n",
        "# Penggunaan text() --> untuk menempatkan suatu text pada titik tertentu.\n",
        "# text(sumbu x, sumbu y, 'argument yg mau dimunculkan')\n",
        "plt.text(45, 500, r'$\\mu=100,\\ \\sigma=15$')\n",
        "plt.grid()\n",
        "\n",
        "plt.show()"
      ],
      "metadata": {
        "colab": {
          "base_uri": "https://localhost:8080/",
          "height": 295
        },
        "id": "kE_P9pltyl_f",
        "outputId": "7dc6babc-2f3d-492c-c506-1ea82f2f6a18"
      },
      "execution_count": 23,
      "outputs": [
        {
          "output_type": "display_data",
          "data": {
            "text/plain": [
              "<Figure size 432x288 with 1 Axes>"
            ],
            "image/png": "[encoded data removed]"
          },
          "metadata": {
            "needs_background": "light"
          }
        }
      ]
    },
    {
      "cell_type": "markdown",
      "source": [
        "## Histogram dengan OO Style"
      ],
      "metadata": {
        "id": "urj8FtM_0yLg"
      }
    },
    {
      "cell_type": "code",
      "source": [
        "fig, ax = plt.subplots()\n",
        "\n",
        "ax.hist(x,\n",
        "        bins=50,\n",
        "        facecolor='r',\n",
        "        alpha=0.75)\n",
        "\n",
        "ax.set_xlabel('Sumbu X')\n",
        "ax.set_ylabel('Sumbu Y')\n",
        "ax.set_title('Contoh Histogram')\n",
        "\n",
        "ax.text(45, 500, '$\\mu=100,\\ \\sigma=15$')\n",
        "ax.grid()\n",
        "\n",
        "plt.show()"
      ],
      "metadata": {
        "colab": {
          "base_uri": "https://localhost:8080/",
          "height": 295
        },
        "outputId": "b48ad436-a5b4-4cc8-c5a0-9e8ca7cca73c",
        "id": "e0mPcek50yLl"
      },
      "execution_count": 24,
      "outputs": [
        {
          "output_type": "display_data",
          "data": {
            "text/plain": [
              "<Figure size 432x288 with 1 Axes>"
            ],
            "image/png": "[encoded data removed]"
          },
          "metadata": {
            "needs_background": "light"
          }
        }
      ]
    }
  ]
}