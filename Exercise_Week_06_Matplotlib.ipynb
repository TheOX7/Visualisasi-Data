{
  "nbformat": 4,
  "nbformat_minor": 0,
  "metadata": {
    "colab": {
      "provenance": [],
      "collapsed_sections": [
        "vQBaxVsEVdAw",
        "6JrD9t8GHi9Y",
        "M6gSOP41Hi9h",
        "I5OUnx1qQ-c2",
        "R5ypdabxuBYN",
        "bHXUI8_IuepI",
        "VD3xhucovKPZ",
        "Xf6Bru38vaQ2",
        "O-W2q10CwQy9",
        "Z3QDAhHNwQzE",
        "NNZzYKl5wQzE",
        "BpD-ihyYwqYY",
        "sqsen4aswQzF",
        "0wdGuBFPxi3X",
        "MWs9TnMCxvCe"
      ]
    },
    "kernelspec": {
      "name": "python3",
      "display_name": "Python 3"
    },
    "language_info": {
      "name": "python"
    }
  },
  "cells": [
    {
      "cell_type": "markdown",
      "source": [
        "# **Import Modules**\n",
        "\n",
        "---\n",
        "\n"
      ],
      "metadata": {
        "id": "vQBaxVsEVdAw"
      }
    },
    {
      "cell_type": "code",
      "source": [
        "%matplotlib inline"
      ],
      "metadata": {
        "id": "LkyuHkn5r2hF"
      },
      "execution_count": 1,
      "outputs": []
    },
    {
      "cell_type": "code",
      "source": [
        "import matplotlib\n",
        "import matplotlib.pyplot as plt\n",
        "import numpy as np\n",
        "\n",
        "print(matplotlib.__version__)\n",
        "print(np.__version__)"
      ],
      "metadata": {
        "colab": {
          "base_uri": "https://localhost:8080/"
        },
        "id": "FejmKzT2r2QE",
        "outputId": "ee880333-93b4-4fb2-af79-b90d9b355320"
      },
      "execution_count": 2,
      "outputs": [
        {
          "output_type": "stream",
          "name": "stdout",
          "text": [
            "3.2.2\n",
            "1.21.6\n"
          ]
        }
      ]
    },
    {
      "cell_type": "markdown",
      "source": [
        "\n",
        "\n",
        "---\n",
        "\n",
        "\n",
        "# Matplotlib 10 | Box Chart\n",
        "\n",
        "---\n",
        "\n",
        "\n",
        "\n"
      ],
      "metadata": {
        "id": "6JrD9t8GHi9Y"
      }
    },
    {
      "cell_type": "markdown",
      "source": [
        "## Simple Dataset"
      ],
      "metadata": {
        "id": "M6gSOP41Hi9h"
      }
    },
    {
      "cell_type": "code",
      "source": [
        "np.random.seed(2)\n",
        "# loc --> Nilai median | scale --> Standar Deviasi | size --> Jumlah data points\n",
        "data = np.random.normal(loc=100, scale=10, size=200)\n",
        "data"
      ],
      "metadata": {
        "id": "lCzep-U3Hi9h",
        "colab": {
          "base_uri": "https://localhost:8080/"
        },
        "outputId": "81f922a4-23ff-4e6a-aaf3-b0cb5777b9b3"
      },
      "execution_count": 3,
      "outputs": [
        {
          "output_type": "execute_result",
          "data": {
            "text/plain": [
              "array([ 95.83242153,  99.43733173,  78.63803904, 116.40270808,\n",
              "        82.06564415,  91.58252634, 105.02881417,  87.54711913,\n",
              "        89.42047781,  90.90992385, 105.51454045, 122.92208013,\n",
              "       100.41539393,  88.82074555, 105.39058321,  94.038403  ,\n",
              "        99.80869503, 111.7500122 ,  92.52129051, 100.09025251,\n",
              "        91.21892107,  98.4356583 , 102.56570452,  90.11220951,\n",
              "        96.61178034,  97.63815969,  93.62344988,  88.12387714,\n",
              "        85.78782773,  98.46504804,  97.3094304 , 122.31366789,\n",
              "        75.65232423, 101.12726505, 103.70444537, 113.59633863,\n",
              "       105.01857207,  91.55786296, 100.00009761, 105.42352572,\n",
              "        96.86491803, 107.71011738,  81.31909345, 117.31184666,\n",
              "       114.67678011,  96.64322661, 106.1134078 , 100.47970592,\n",
              "        91.70864711, 100.87710218, 110.00365887,  96.18907482,\n",
              "        96.24330577,  99.25529237, 104.3349633 , 112.7837923 ,\n",
              "        93.65320695, 105.08396243, 102.16116006,  81.41387614,\n",
              "        95.80683518,  98.67671102,  99.6042976 , 103.26003433,\n",
              "        79.59676951, 100.46255523,  93.22324423,  85.60560973,\n",
              "       105.2429643 , 107.35279576,  93.46749732, 108.42456282,\n",
              "        96.18483518, 100.66489009,  89.01261053, 115.84487056,\n",
              "        73.40550544,  99.08547377, 106.95119605,  79.66533454,\n",
              "        98.10530735,  99.22781335, 108.24703005, 112.48212921,\n",
              "        95.96107731,  86.15481333, 113.67235424, 112.17885633,\n",
              "        95.37994652, 103.50888494, 103.81866234, 105.66275441,\n",
              "       102.04207979, 114.06696242,  82.62040496, 110.40823953,\n",
              "       103.8047197 ,  97.82864731, 111.73531498,  76.56396809,\n",
              "       111.61521491, 103.86078048,  88.66866726, 104.33092555,\n",
              "        96.95913561, 125.85294868, 118.35332723, 104.40689872,\n",
              "        92.80746159,  94.16585405,  96.74950372,  94.39765494,\n",
              "        90.97753932,  94.09027725,  97.23820508,  94.83116106,\n",
              "        93.0141005 ,  90.71108075, 125.50438236,  85.26826752,\n",
              "        89.78585269, 104.32395701,  96.7641993 , 104.23824708,\n",
              "       107.99179995, 112.62613663, 107.51964849,  90.06239017,\n",
              "       111.09143281,  82.35082272,  98.85578703,  95.01825806,\n",
              "        89.39200964, 105.91666521,  98.16743426, 110.19854729,\n",
              "        85.17534522, 108.46311892, 104.97940148, 101.26504175,\n",
              "        85.81189449,  97.48225882,  84.53325389,  79.17348064,\n",
              "       132.79745401, 109.7086132 , 117.92592852,  95.70986681,\n",
              "       106.9619798 , 106.97416272, 106.01515814, 100.03659491,\n",
              "        97.71752442,  79.30387737, 106.10144086, 104.234969  ,\n",
              "       111.17886733,  97.25757911, 117.41812188,  95.52499124,\n",
              "        87.44572782, 109.38163671,  95.3165374 ,  87.45279693,\n",
              "       101.24823646, 107.56502143, 102.41439629, 104.97425649,\n",
              "       141.08692624, 108.21120877, 115.31760316,  80.14154226,\n",
              "       103.65053516, 107.74082033,  96.35520908,  91.24020522,\n",
              "       103.96520159,  96.85382564,  94.06244417, 111.49500568,\n",
              "       113.35566168, 103.02629336,  95.45772145, 105.14370717,\n",
              "       108.29458431, 106.30621967,  85.4663565 ,  96.61982223,\n",
              "       103.59133332, 106.22220414, 109.60781945, 107.58370347,\n",
              "        88.65681517,  92.92579112,  87.78570835, 118.04476642,\n",
              "       101.80409807, 105.53164274, 110.33029066,  96.70997565])"
            ]
          },
          "metadata": {},
          "execution_count": 3
        }
      ]
    },
    {
      "cell_type": "markdown",
      "source": [
        "## Simple Box Plot"
      ],
      "metadata": {
        "id": "I5OUnx1qQ-c2"
      }
    },
    {
      "cell_type": "code",
      "source": [
        "plt.boxplot(data, labels=['Data'])\n",
        "\n",
        "plt.title('Simple Box Plot')\n",
        "plt.xlabel('Sumbu X')\n",
        "plt.ylabel('Sumbu Y')\n",
        "\n",
        "plt.grid()\n",
        "plt.show()"
      ],
      "metadata": {
        "id": "PNwWSnLUQ-c2",
        "colab": {
          "base_uri": "https://localhost:8080/",
          "height": 295
        },
        "outputId": "e7dae392-50ff-4ed1-bef0-96a8c854d690"
      },
      "execution_count": 6,
      "outputs": [
        {
          "output_type": "display_data",
          "data": {
            "text/plain": [
              "<Figure size 432x288 with 1 Axes>"
            ],
            "image/png": "[encoded data removed]"
          },
          "metadata": {
            "needs_background": "light"
          }
        }
      ]
    },
    {
      "cell_type": "markdown",
      "source": [
        "## Notched Box Plot"
      ],
      "metadata": {
        "id": "R5ypdabxuBYN"
      }
    },
    {
      "cell_type": "code",
      "source": [
        "plt.boxplot(data, labels=['Data'], notch=True)\n",
        "\n",
        "plt.title('Notched Box Plot')\n",
        "plt.xlabel('Sumbu X')\n",
        "plt.ylabel('Sumbu Y')\n",
        "\n",
        "plt.show()"
      ],
      "metadata": {
        "colab": {
          "base_uri": "https://localhost:8080/",
          "height": 295
        },
        "outputId": "7938937f-d8ed-4ba3-e1b5-d838641635c8",
        "id": "NYqRG0BpuBYN"
      },
      "execution_count": 7,
      "outputs": [
        {
          "output_type": "display_data",
          "data": {
            "text/plain": [
              "<Figure size 432x288 with 1 Axes>"
            ],
            "image/png": "[encoded data removed]"
          },
          "metadata": {
            "needs_background": "light"
          }
        }
      ]
    },
    {
      "cell_type": "markdown",
      "source": [
        "## Pengaturan Marker untuk Outlier"
      ],
      "metadata": {
        "id": "bHXUI8_IuepI"
      }
    },
    {
      "cell_type": "code",
      "source": [
        "# Supaya outlier (marker diamond yang berwarna merah) tidak muncul, nilai showfliers jadikan False\n",
        "plt.boxplot(data, labels=['Data'], showfliers=True, flierprops={'markerfacecolor':'r', 'marker':'d'})\n",
        "\n",
        "plt.title('Pengaturan Marker')\n",
        "plt.xlabel('Sumbu X')\n",
        "plt.ylabel('Sumbu Y')\n",
        "\n",
        "plt.show()"
      ],
      "metadata": {
        "colab": {
          "base_uri": "https://localhost:8080/",
          "height": 295
        },
        "outputId": "d98f094a-eab5-43f2-a56d-bae5b3fc9cd4",
        "id": "G01Veq4fuepP"
      },
      "execution_count": 11,
      "outputs": [
        {
          "output_type": "display_data",
          "data": {
            "text/plain": [
              "<Figure size 432x288 with 1 Axes>"
            ],
            "image/png": "[encoded data removed]"
          },
          "metadata": {
            "needs_background": "light"
          }
        }
      ]
    },
    {
      "cell_type": "markdown",
      "source": [
        "## Horizontal Box Plot"
      ],
      "metadata": {
        "id": "VD3xhucovKPZ"
      }
    },
    {
      "cell_type": "code",
      "source": [
        "# Supaya menjadi vertical, ubah parameter vert menjadi True\n",
        "plt.boxplot(data, labels=['Data'], vert=False)\n",
        "\n",
        "plt.title('Horizontal Box Plot')\n",
        "plt.xlabel('Sumbu X')\n",
        "plt.ylabel('Sumbu Y')\n",
        "\n",
        "plt.show()"
      ],
      "metadata": {
        "colab": {
          "base_uri": "https://localhost:8080/",
          "height": 295
        },
        "outputId": "e46fcace-09bc-4c97-e319-f5471eaaa98a",
        "id": "Q8awZHoGvKPh"
      },
      "execution_count": 12,
      "outputs": [
        {
          "output_type": "display_data",
          "data": {
            "text/plain": [
              "<Figure size 432x288 with 1 Axes>"
            ],
            "image/png": "[encoded data removed]"
          },
          "metadata": {
            "needs_background": "light"
          }
        }
      ]
    },
    {
      "cell_type": "markdown",
      "source": [
        "## Multiple Box Plot"
      ],
      "metadata": {
        "id": "Xf6Bru38vaQ2"
      }
    },
    {
      "cell_type": "code",
      "source": [
        "np.random.seed(10)\n",
        "\n",
        "data1 = np.random.normal(100, 10, 200)\n",
        "data2 = np.random.normal(80, 30, 200)\n",
        "data3 = np.random.normal(90, 20, 200)\n",
        "data4 = np.random.normal(70, 25, 200)\n",
        "\n",
        "data = [data1, data2, data3, data4]\n",
        "labels = ['Data-1', 'Data-2', 'Data-3', 'Data-4']"
      ],
      "metadata": {
        "id": "iCHQOR7pvaQ2"
      },
      "execution_count": 14,
      "outputs": []
    },
    {
      "cell_type": "code",
      "source": [
        "plt.boxplot(data, labels=labels)\n",
        "\n",
        "plt.title('Multiple Box Plot')\n",
        "plt.xlabel('Sumbu X')\n",
        "plt.ylabel('Sumbu Y')\n",
        "\n",
        "plt.show()"
      ],
      "metadata": {
        "colab": {
          "base_uri": "https://localhost:8080/",
          "height": 295
        },
        "outputId": "15e7e6f9-9562-4c97-c28a-4f7aa6d82288",
        "id": "ClD87SnJvaQ3"
      },
      "execution_count": 15,
      "outputs": [
        {
          "output_type": "display_data",
          "data": {
            "text/plain": [
              "<Figure size 432x288 with 1 Axes>"
            ],
            "image/png": "[encoded data removed]"
          },
          "metadata": {
            "needs_background": "light"
          }
        }
      ]
    },
    {
      "cell_type": "markdown",
      "source": [
        "\n",
        "\n",
        "---\n",
        "\n",
        "\n",
        "# Matplotlib 11 | Violin Chart\n",
        "\n",
        "---\n",
        "\n",
        "\n",
        "\n"
      ],
      "metadata": {
        "id": "O-W2q10CwQy9"
      }
    },
    {
      "cell_type": "markdown",
      "source": [
        "## Simple Dataset"
      ],
      "metadata": {
        "id": "Z3QDAhHNwQzE"
      }
    },
    {
      "cell_type": "code",
      "source": [
        "np.random.seed(2)\n",
        "# loc --> Nilai median | scale --> Standar Deviasi | size --> Jumlah data points\n",
        "data = np.random.normal(loc=100, scale=10, size=200)\n",
        "data"
      ],
      "metadata": {
        "colab": {
          "base_uri": "https://localhost:8080/"
        },
        "outputId": "bf228a87-c530-4e28-b63f-275eace0f158",
        "id": "TCrBW9ESwQzE"
      },
      "execution_count": 16,
      "outputs": [
        {
          "output_type": "execute_result",
          "data": {
            "text/plain": [
              "array([ 95.83242153,  99.43733173,  78.63803904, 116.40270808,\n",
              "        82.06564415,  91.58252634, 105.02881417,  87.54711913,\n",
              "        89.42047781,  90.90992385, 105.51454045, 122.92208013,\n",
              "       100.41539393,  88.82074555, 105.39058321,  94.038403  ,\n",
              "        99.80869503, 111.7500122 ,  92.52129051, 100.09025251,\n",
              "        91.21892107,  98.4356583 , 102.56570452,  90.11220951,\n",
              "        96.61178034,  97.63815969,  93.62344988,  88.12387714,\n",
              "        85.78782773,  98.46504804,  97.3094304 , 122.31366789,\n",
              "        75.65232423, 101.12726505, 103.70444537, 113.59633863,\n",
              "       105.01857207,  91.55786296, 100.00009761, 105.42352572,\n",
              "        96.86491803, 107.71011738,  81.31909345, 117.31184666,\n",
              "       114.67678011,  96.64322661, 106.1134078 , 100.47970592,\n",
              "        91.70864711, 100.87710218, 110.00365887,  96.18907482,\n",
              "        96.24330577,  99.25529237, 104.3349633 , 112.7837923 ,\n",
              "        93.65320695, 105.08396243, 102.16116006,  81.41387614,\n",
              "        95.80683518,  98.67671102,  99.6042976 , 103.26003433,\n",
              "        79.59676951, 100.46255523,  93.22324423,  85.60560973,\n",
              "       105.2429643 , 107.35279576,  93.46749732, 108.42456282,\n",
              "        96.18483518, 100.66489009,  89.01261053, 115.84487056,\n",
              "        73.40550544,  99.08547377, 106.95119605,  79.66533454,\n",
              "        98.10530735,  99.22781335, 108.24703005, 112.48212921,\n",
              "        95.96107731,  86.15481333, 113.67235424, 112.17885633,\n",
              "        95.37994652, 103.50888494, 103.81866234, 105.66275441,\n",
              "       102.04207979, 114.06696242,  82.62040496, 110.40823953,\n",
              "       103.8047197 ,  97.82864731, 111.73531498,  76.56396809,\n",
              "       111.61521491, 103.86078048,  88.66866726, 104.33092555,\n",
              "        96.95913561, 125.85294868, 118.35332723, 104.40689872,\n",
              "        92.80746159,  94.16585405,  96.74950372,  94.39765494,\n",
              "        90.97753932,  94.09027725,  97.23820508,  94.83116106,\n",
              "        93.0141005 ,  90.71108075, 125.50438236,  85.26826752,\n",
              "        89.78585269, 104.32395701,  96.7641993 , 104.23824708,\n",
              "       107.99179995, 112.62613663, 107.51964849,  90.06239017,\n",
              "       111.09143281,  82.35082272,  98.85578703,  95.01825806,\n",
              "        89.39200964, 105.91666521,  98.16743426, 110.19854729,\n",
              "        85.17534522, 108.46311892, 104.97940148, 101.26504175,\n",
              "        85.81189449,  97.48225882,  84.53325389,  79.17348064,\n",
              "       132.79745401, 109.7086132 , 117.92592852,  95.70986681,\n",
              "       106.9619798 , 106.97416272, 106.01515814, 100.03659491,\n",
              "        97.71752442,  79.30387737, 106.10144086, 104.234969  ,\n",
              "       111.17886733,  97.25757911, 117.41812188,  95.52499124,\n",
              "        87.44572782, 109.38163671,  95.3165374 ,  87.45279693,\n",
              "       101.24823646, 107.56502143, 102.41439629, 104.97425649,\n",
              "       141.08692624, 108.21120877, 115.31760316,  80.14154226,\n",
              "       103.65053516, 107.74082033,  96.35520908,  91.24020522,\n",
              "       103.96520159,  96.85382564,  94.06244417, 111.49500568,\n",
              "       113.35566168, 103.02629336,  95.45772145, 105.14370717,\n",
              "       108.29458431, 106.30621967,  85.4663565 ,  96.61982223,\n",
              "       103.59133332, 106.22220414, 109.60781945, 107.58370347,\n",
              "        88.65681517,  92.92579112,  87.78570835, 118.04476642,\n",
              "       101.80409807, 105.53164274, 110.33029066,  96.70997565])"
            ]
          },
          "metadata": {},
          "execution_count": 16
        }
      ]
    },
    {
      "cell_type": "markdown",
      "source": [
        "## Simple Violin Plot"
      ],
      "metadata": {
        "id": "NNZzYKl5wQzE"
      }
    },
    {
      "cell_type": "code",
      "source": [
        "plt.violinplot(data)\n",
        "\n",
        "plt.title('Simple Violin Plot')\n",
        "plt.xlabel('Sumbu X')\n",
        "plt.ylabel('Sumbu Y')\n",
        "\n",
        "plt.grid()\n",
        "plt.show()"
      ],
      "metadata": {
        "colab": {
          "base_uri": "https://localhost:8080/",
          "height": 295
        },
        "outputId": "e0b034d6-628b-4829-b78f-40cef71bcffe",
        "id": "cq3DFXLIwQzE"
      },
      "execution_count": 17,
      "outputs": [
        {
          "output_type": "display_data",
          "data": {
            "text/plain": [
              "<Figure size 432x288 with 1 Axes>"
            ],
            "image/png": "[encoded data removed]"
          },
          "metadata": {
            "needs_background": "light"
          }
        }
      ]
    },
    {
      "cell_type": "markdown",
      "source": [
        "## Pengaturan pada Violin Plot"
      ],
      "metadata": {
        "id": "BpD-ihyYwqYY"
      }
    },
    {
      "cell_type": "code",
      "source": [
        "# showextrema --> Untuk menampilkan garis tengah pada sumbu Y & nilai max dan min pada sumbu X\n",
        "# showmeans --> Menamplikan nilai mean | showmedian --> Menampilkan nilai medians\n",
        "\n",
        "plt.violinplot(data, showextrema=False, showmeans=False, showmedians=False, quantiles=None)\n",
        "\n",
        "plt.title('Violin Plot')\n",
        "plt.xlabel('Sumbu X')\n",
        "plt.ylabel('Sumbu Y')\n",
        "\n",
        "plt.show()"
      ],
      "metadata": {
        "colab": {
          "base_uri": "https://localhost:8080/",
          "height": 295
        },
        "outputId": "9f64f64c-831d-48f7-a115-60e0a924351f",
        "id": "jYb8LHk4wqYY"
      },
      "execution_count": 20,
      "outputs": [
        {
          "output_type": "display_data",
          "data": {
            "text/plain": [
              "<Figure size 432x288 with 1 Axes>"
            ],
            "image/png": "[encoded data removed]"
          },
          "metadata": {
            "needs_background": "light"
          }
        }
      ]
    },
    {
      "cell_type": "markdown",
      "source": [
        "## Horizontal Violin Plot"
      ],
      "metadata": {
        "id": "sqsen4aswQzF"
      }
    },
    {
      "cell_type": "code",
      "source": [
        "# Supaya menjadi vertical, ubah parameter vert menjadi True\n",
        "plt.violinplot(data, vert=False)\n",
        "\n",
        "plt.title('Horizontal Violin Plot')\n",
        "plt.xlabel('Sumbu X')\n",
        "plt.ylabel('Sumbu Y')\n",
        "\n",
        "plt.show()"
      ],
      "metadata": {
        "colab": {
          "base_uri": "https://localhost:8080/",
          "height": 295
        },
        "outputId": "355501c2-5c57-477f-df58-ce35744dec06",
        "id": "qU-EAxckwQzF"
      },
      "execution_count": 23,
      "outputs": [
        {
          "output_type": "display_data",
          "data": {
            "text/plain": [
              "<Figure size 432x288 with 1 Axes>"
            ],
            "image/png": "[encoded data removed]"
          },
          "metadata": {
            "needs_background": "light"
          }
        }
      ]
    },
    {
      "cell_type": "markdown",
      "source": [
        "## Multiple Violin Plot"
      ],
      "metadata": {
        "id": "0wdGuBFPxi3X"
      }
    },
    {
      "cell_type": "code",
      "source": [
        "np.random.seed(10)\n",
        "\n",
        "data1 = np.random.normal(100, 10, 200)\n",
        "data2 = np.random.normal(80, 30, 200)\n",
        "data3 = np.random.normal(90, 20, 200)\n",
        "data4 = np.random.normal(70, 25, 200)\n",
        "\n",
        "data = [data1, data2, data3, data4]"
      ],
      "metadata": {
        "id": "_eaB9OKXxi3f"
      },
      "execution_count": 24,
      "outputs": []
    },
    {
      "cell_type": "code",
      "source": [
        "plt.violinplot(data)\n",
        "\n",
        "plt.title('Multiple Violin Plot')\n",
        "plt.xlabel('Sumbu X')\n",
        "plt.ylabel('Sumbu Y')\n",
        "\n",
        "plt.show()"
      ],
      "metadata": {
        "colab": {
          "base_uri": "https://localhost:8080/",
          "height": 295
        },
        "outputId": "1df81e43-5bcd-4882-d3bf-078c50be5457",
        "id": "gpW450Z7xi3f"
      },
      "execution_count": 25,
      "outputs": [
        {
          "output_type": "display_data",
          "data": {
            "text/plain": [
              "<Figure size 432x288 with 1 Axes>"
            ],
            "image/png": "[encoded data removed]"
          },
          "metadata": {
            "needs_background": "light"
          }
        }
      ]
    },
    {
      "cell_type": "markdown",
      "source": [
        "\n",
        "\n",
        "---\n",
        "\n",
        "\n",
        "# Matplotlib 12 | Twin Axes\n",
        "\n",
        "---\n",
        "\n",
        "\n",
        "\n"
      ],
      "metadata": {
        "id": "x1Q2R86nxvCe"
      }
    },
    {
      "cell_type": "markdown",
      "source": [
        "## Kasus Twin Axes 1"
      ],
      "metadata": {
        "id": "MWs9TnMCxvCe"
      }
    },
    {
      "cell_type": "code",
      "source": [
        "x = np.linspace(1, 10, 25)\n",
        "x"
      ],
      "metadata": {
        "colab": {
          "base_uri": "https://localhost:8080/"
        },
        "outputId": "69d5c0ad-ecf8-4ae2-906d-adcb938041b9",
        "id": "OgP6vPXixvCe"
      },
      "execution_count": 26,
      "outputs": [
        {
          "output_type": "execute_result",
          "data": {
            "text/plain": [
              "array([ 1.   ,  1.375,  1.75 ,  2.125,  2.5  ,  2.875,  3.25 ,  3.625,\n",
              "        4.   ,  4.375,  4.75 ,  5.125,  5.5  ,  5.875,  6.25 ,  6.625,\n",
              "        7.   ,  7.375,  7.75 ,  8.125,  8.5  ,  8.875,  9.25 ,  9.625,\n",
              "       10.   ])"
            ]
          },
          "metadata": {},
          "execution_count": 26
        }
      ]
    },
    {
      "cell_type": "code",
      "source": [
        "fig, ax1 = plt.subplots()\n",
        "\n",
        "ax1.plot(x, np.exp(x), 'bs-', label='exp')\n",
        "ax1.set_xlabel('Sumbu X')\n",
        "ax1.set_ylabel('Sumbu Y')\n",
        "\n",
        "ax2 = ax1.twinx()\n",
        "ax2.plot(x, np.log(x), 'ro-', label='log')\n",
        "ax2.set_xlabel('Sumbu X')\n",
        "ax2.set_ylabel('Sumbu Y')\n",
        "\n",
        "fig.suptitle('Contoh Twin Axes')\n",
        "fig.legend(loc='upper left')\n",
        "\n",
        "plt.show()"
      ],
      "metadata": {
        "colab": {
          "base_uri": "https://localhost:8080/",
          "height": 309
        },
        "id": "Dbu1tO-EyCcu",
        "outputId": "9538bebf-7286-4c15-e0f0-5d6d98b08a4d"
      },
      "execution_count": 27,
      "outputs": [
        {
          "output_type": "display_data",
          "data": {
            "text/plain": [
              "<Figure size 432x288 with 2 Axes>"
            ],
            "image/png": "[encoded data removed]"
          },
          "metadata": {
            "needs_background": "light"
          }
        }
      ]
    },
    {
      "cell_type": "markdown",
      "source": [
        "## Kasus Twin Axes 1"
      ],
      "metadata": {
        "id": "sfP0LCzYzDsQ"
      }
    },
    {
      "cell_type": "code",
      "source": [
        "x = np.random.randint(16, 40, size=30)\n",
        "x"
      ],
      "metadata": {
        "colab": {
          "base_uri": "https://localhost:8080/"
        },
        "outputId": "5f880b93-3168-4991-f01c-0db293fd1e42",
        "id": "aRT7tFRRzDsW"
      },
      "execution_count": 28,
      "outputs": [
        {
          "output_type": "execute_result",
          "data": {
            "text/plain": [
              "array([23, 22, 22, 23, 37, 27, 33, 29, 31, 25, 36, 18, 22, 21, 30, 38, 30,\n",
              "       18, 35, 39, 25, 38, 30, 26, 21, 23, 20, 23, 27, 25])"
            ]
          },
          "metadata": {},
          "execution_count": 28
        }
      ]
    },
    {
      "cell_type": "code",
      "source": [
        "def celciusToFahrenheit(celcius=0):\n",
        "  return (celcius * 1.8) + 32\n",
        "\n",
        "def konversi_sumbu(ax1):\n",
        "  y1, y2 = ax1.get_ylim()\n",
        "  ax2.set_ylim(celciusToFahrenheit(y1), celciusToFahrenheit(y2))\n",
        "  ax2.figure.canvas.draw()"
      ],
      "metadata": {
        "id": "atwNaRuyzK5F"
      },
      "execution_count": 30,
      "outputs": []
    },
    {
      "cell_type": "code",
      "source": [
        "fig, ax1 = plt.subplots()\n",
        "ax2 = ax1.twinx()\n",
        "\n",
        "ax1.callbacks.connect('ylim_changed', konversi_sumbu)\n",
        "ax1.plot(x)\n",
        "\n",
        "ax1.set_xlabel('Hari')\n",
        "ax1.set_ylabel('Celcius')\n",
        "ax2.set_ylabel('Fahrenheit')\n",
        "\n",
        "fig.suptitle('Temperature Udara')\n",
        "\n",
        "plt.show()"
      ],
      "metadata": {
        "colab": {
          "base_uri": "https://localhost:8080/",
          "height": 308
        },
        "outputId": "ba2805fb-49cd-48f1-9704-35cb2eecb7d3",
        "id": "7ADU3cF8zDsX"
      },
      "execution_count": 32,
      "outputs": [
        {
          "output_type": "display_data",
          "data": {
            "text/plain": [
              "<Figure size 432x288 with 2 Axes>"
            ],
            "image/png": "[encoded data removed]"
          },
          "metadata": {
            "needs_background": "light"
          }
        }
      ]
    }
  ]
}